{
  "nbformat": 4,
  "nbformat_minor": 5,
  "metadata": {
    "kernelspec": {
      "display_name": "Python 3",
      "language": "python",
      "name": "python3"
    },
    "language_info": {
      "codemirror_mode": {
        "name": "ipython",
        "version": 3
      },
      "file_extension": ".py",
      "mimetype": "text/x-python",
      "name": "python",
      "nbconvert_exporter": "python",
      "pygments_lexer": "ipython3",
      "version": "3.8.8"
    },
    "colab": {
      "name": "Latihan 1 Introduction Python.ipynb",
      "provenance": [],
      "include_colab_link": true
    }
  },
  "cells": [
    {
      "cell_type": "markdown",
      "metadata": {
        "id": "view-in-github",
        "colab_type": "text"
      },
      "source": [
        "<a href=\"https://colab.research.google.com/github/prissyyy/Exercises/blob/main/Latihan_1_Introduction_Python.ipynb\" target=\"_parent\"><img src=\"https://colab.research.google.com/assets/colab-badge.svg\" alt=\"Open In Colab\"/></a>"
      ]
    },
    {
      "cell_type": "markdown",
      "metadata": {
        "id": "vND99WT4CF3A"
      },
      "source": [
        "**Perintah 1**"
      ],
      "id": "vND99WT4CF3A"
    },
    {
      "cell_type": "code",
      "metadata": {
        "id": "7e0852e7",
        "outputId": "6713b211-0e64-4cbe-9e58-027cf7273769"
      },
      "source": [
        "print(\"Hello World\")"
      ],
      "id": "7e0852e7",
      "execution_count": null,
      "outputs": [
        {
          "name": "stdout",
          "output_type": "stream",
          "text": [
            "Hello World\n"
          ]
        }
      ]
    },
    {
      "cell_type": "markdown",
      "metadata": {
        "id": "a5Xr15yIClz5"
      },
      "source": [
        "**Perintah 2**"
      ],
      "id": "a5Xr15yIClz5"
    },
    {
      "cell_type": "code",
      "metadata": {
        "id": "90ab46c9",
        "outputId": "86989876-9b95-4bde-94cb-e445bf119f14"
      },
      "source": [
        "print(\"Hallo Dunia\")\n",
        "print(\"Riset Bahasa\")"
      ],
      "id": "90ab46c9",
      "execution_count": null,
      "outputs": [
        {
          "name": "stdout",
          "output_type": "stream",
          "text": [
            "Hallo Dunia\n",
            "Riset Bahasa\n"
          ]
        }
      ]
    },
    {
      "cell_type": "markdown",
      "metadata": {
        "id": "hLnOtgw0Cq4E"
      },
      "source": [
        "**Perintah 3**"
      ],
      "id": "hLnOtgw0Cq4E"
    },
    {
      "cell_type": "code",
      "metadata": {
        "id": "45116403",
        "outputId": "d9bc6516-27e8-4baa-e42c-c8678ec73604"
      },
      "source": [
        "bilangan1 = 20\n",
        "bilangan2 = 10\n",
        "print(bilangan1 - bilangan2)"
      ],
      "id": "45116403",
      "execution_count": null,
      "outputs": [
        {
          "name": "stdout",
          "output_type": "stream",
          "text": [
            "10\n"
          ]
        }
      ]
    },
    {
      "cell_type": "markdown",
      "metadata": {
        "id": "IMZVnzorCyQj"
      },
      "source": [
        "**Perintah 4**"
      ],
      "id": "IMZVnzorCyQj"
    },
    {
      "cell_type": "code",
      "metadata": {
        "id": "8b2872ce",
        "outputId": "5acbf97d-d4ea-4c54-c956-97bf36401842"
      },
      "source": [
        "contoh_list = ['Dewi','Budi','Cici','Linda','Cici']\n",
        "print(contoh_list)\n",
        "contoh_set = {'Dewi','Budi','Cici','Linda','Cici'}\n",
        "print(contoh_set)\n",
        "contoh_frozen_set = ({'Dewi','Budi','Cici','Linda','Cici'})\n",
        "print(contoh_frozen_set)"
      ],
      "id": "8b2872ce",
      "execution_count": null,
      "outputs": [
        {
          "name": "stdout",
          "output_type": "stream",
          "text": [
            "['Dewi', 'Budi', 'Cici', 'Linda', 'Cici']\n",
            "{'Budi', 'Cici', 'Linda', 'Dewi'}\n",
            "{'Budi', 'Cici', 'Linda', 'Dewi'}\n"
          ]
        }
      ]
    },
    {
      "cell_type": "markdown",
      "metadata": {
        "id": "rDTie5nUC5GA"
      },
      "source": [
        "**Perintah 5**"
      ],
      "id": "rDTie5nUC5GA"
    },
    {
      "cell_type": "code",
      "metadata": {
        "id": "d77f6a86",
        "outputId": "c1cde72f-7c26-457c-d981-653c49e7c952"
      },
      "source": [
        "person = {'nama':'Prissy','pekerjaan':'Ambassador PT.Cicil Solusi Mitra Teknologi'}\n",
        "print(person['nama'])\n",
        "print(person['pekerjaan'])"
      ],
      "id": "d77f6a86",
      "execution_count": null,
      "outputs": [
        {
          "name": "stdout",
          "output_type": "stream",
          "text": [
            "Prissy\n",
            "Ambassador PT.Cicil Solusi Mitra Teknologi\n"
          ]
        }
      ]
    },
    {
      "cell_type": "markdown",
      "metadata": {
        "id": "ubiSQUkkDEPx"
      },
      "source": [
        "**Perintah 6**"
      ],
      "id": "ubiSQUkkDEPx"
    },
    {
      "cell_type": "code",
      "metadata": {
        "id": "626428b9",
        "outputId": "b1793f44-b284-430d-cdc3-5808527397d5"
      },
      "source": [
        "contoh_list = [1, 'dua', 3, 4.0, 5]\n",
        "print(contoh_list[0])\n",
        "print(contoh_list[3])\n",
        "contoh_list = [1, 'dua', 3, 4.0, 5]\n",
        "contoh_list[3] = 'empat'\n",
        "print(contoh_list[3])"
      ],
      "id": "626428b9",
      "execution_count": null,
      "outputs": [
        {
          "name": "stdout",
          "output_type": "stream",
          "text": [
            "1\n",
            "4.0\n",
            "empat\n"
          ]
        }
      ]
    }
  ]
}
