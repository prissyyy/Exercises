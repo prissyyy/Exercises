{
  "nbformat": 4,
  "nbformat_minor": 0,
  "metadata": {
    "colab": {
      "name": "Project-2.1_Visualisasi-Data.ipynb",
      "provenance": [],
      "include_colab_link": true
    },
    "kernelspec": {
      "name": "python3",
      "display_name": "Python 3"
    },
    "language_info": {
      "name": "python"
    }
  },
  "cells": [
    {
      "cell_type": "markdown",
      "metadata": {
        "id": "view-in-github",
        "colab_type": "text"
      },
      "source": [
        "<a href=\"https://colab.research.google.com/github/prissyyy/Studi-Independen/blob/main/Project-2.1_Visualisasi-Data.ipynb\" target=\"_parent\"><img src=\"https://colab.research.google.com/assets/colab-badge.svg\" alt=\"Open In Colab\"/></a>"
      ]
    },
    {
      "cell_type": "code",
      "metadata": {
        "id": "cA_6sbthIj61"
      },
      "source": [
        "import pandas as pd\n",
        "import numpy as np\n",
        "import seaborn as sns\n",
        "import random\n",
        "from sklearn.cluster import KMeans\n",
        "from sklearn.metrics import silhouette_score\n",
        "import matplotlib.pyplot as plt"
      ],
      "execution_count": null,
      "outputs": []
    },
    {
      "cell_type": "code",
      "metadata": {
        "id": "tL0E77D4RhuL"
      },
      "source": [
        "harga = [700,1400,2100,2800,3500,4200,4900,5600]\n",
        "harga2 = [random.choice(range(700, 6000,100)) for i in range(15)]\n",
        "harga2.sort()\n",
        "ukuran = [50,100,150,200,250,300,400,500]\n",
        "ukuran2 = [random.choice(range(50, 1000, 30)) for i in range(15)]\n",
        "ukuran2.sort()\n",
        "\n",
        "data = {'Harga' : harga,\n",
        "        'Ukuran' : ukuran}\n",
        "data2 = {'Harga' : harga2,\n",
        "        'Ukuran' : ukuran2}"
      ],
      "execution_count": null,
      "outputs": []
    },
    {
      "cell_type": "code",
      "metadata": {
        "id": "5xVKZX2-JBzD"
      },
      "source": [
        "df = pd.DataFrame(data)\n",
        "df2 = pd.DataFrame(data2)"
      ],
      "execution_count": null,
      "outputs": []
    },
    {
      "cell_type": "code",
      "metadata": {
        "colab": {
          "base_uri": "https://localhost:8080/",
          "height": 520
        },
        "id": "hUHPhI4EJoRD",
        "outputId": "49ee76c2-f1b2-4c29-de4f-0d6b453de2f5"
      },
      "source": [
        "df2"
      ],
      "execution_count": null,
      "outputs": [
        {
          "output_type": "execute_result",
          "data": {
            "text/html": [
              "<div>\n",
              "<style scoped>\n",
              "    .dataframe tbody tr th:only-of-type {\n",
              "        vertical-align: middle;\n",
              "    }\n",
              "\n",
              "    .dataframe tbody tr th {\n",
              "        vertical-align: top;\n",
              "    }\n",
              "\n",
              "    .dataframe thead th {\n",
              "        text-align: right;\n",
              "    }\n",
              "</style>\n",
              "<table border=\"1\" class=\"dataframe\">\n",
              "  <thead>\n",
              "    <tr style=\"text-align: right;\">\n",
              "      <th></th>\n",
              "      <th>Harga</th>\n",
              "      <th>Ukuran</th>\n",
              "    </tr>\n",
              "  </thead>\n",
              "  <tbody>\n",
              "    <tr>\n",
              "      <th>0</th>\n",
              "      <td>1400</td>\n",
              "      <td>110</td>\n",
              "    </tr>\n",
              "    <tr>\n",
              "      <th>1</th>\n",
              "      <td>2600</td>\n",
              "      <td>260</td>\n",
              "    </tr>\n",
              "    <tr>\n",
              "      <th>2</th>\n",
              "      <td>3200</td>\n",
              "      <td>410</td>\n",
              "    </tr>\n",
              "    <tr>\n",
              "      <th>3</th>\n",
              "      <td>3400</td>\n",
              "      <td>470</td>\n",
              "    </tr>\n",
              "    <tr>\n",
              "      <th>4</th>\n",
              "      <td>3700</td>\n",
              "      <td>530</td>\n",
              "    </tr>\n",
              "    <tr>\n",
              "      <th>5</th>\n",
              "      <td>3700</td>\n",
              "      <td>530</td>\n",
              "    </tr>\n",
              "    <tr>\n",
              "      <th>6</th>\n",
              "      <td>3800</td>\n",
              "      <td>620</td>\n",
              "    </tr>\n",
              "    <tr>\n",
              "      <th>7</th>\n",
              "      <td>3800</td>\n",
              "      <td>650</td>\n",
              "    </tr>\n",
              "    <tr>\n",
              "      <th>8</th>\n",
              "      <td>4000</td>\n",
              "      <td>680</td>\n",
              "    </tr>\n",
              "    <tr>\n",
              "      <th>9</th>\n",
              "      <td>4200</td>\n",
              "      <td>680</td>\n",
              "    </tr>\n",
              "    <tr>\n",
              "      <th>10</th>\n",
              "      <td>4400</td>\n",
              "      <td>710</td>\n",
              "    </tr>\n",
              "    <tr>\n",
              "      <th>11</th>\n",
              "      <td>4800</td>\n",
              "      <td>740</td>\n",
              "    </tr>\n",
              "    <tr>\n",
              "      <th>12</th>\n",
              "      <td>4900</td>\n",
              "      <td>800</td>\n",
              "    </tr>\n",
              "    <tr>\n",
              "      <th>13</th>\n",
              "      <td>5200</td>\n",
              "      <td>860</td>\n",
              "    </tr>\n",
              "    <tr>\n",
              "      <th>14</th>\n",
              "      <td>5700</td>\n",
              "      <td>950</td>\n",
              "    </tr>\n",
              "  </tbody>\n",
              "</table>\n",
              "</div>"
            ],
            "text/plain": [
              "    Harga  Ukuran\n",
              "0    1400     110\n",
              "1    2600     260\n",
              "2    3200     410\n",
              "3    3400     470\n",
              "4    3700     530\n",
              "5    3700     530\n",
              "6    3800     620\n",
              "7    3800     650\n",
              "8    4000     680\n",
              "9    4200     680\n",
              "10   4400     710\n",
              "11   4800     740\n",
              "12   4900     800\n",
              "13   5200     860\n",
              "14   5700     950"
            ]
          },
          "metadata": {},
          "execution_count": 5
        }
      ]
    },
    {
      "cell_type": "code",
      "metadata": {
        "colab": {
          "base_uri": "https://localhost:8080/",
          "height": 296
        },
        "id": "3nMBQp5SJ6zG",
        "outputId": "e5c7647e-99a1-4468-d98d-67c189dc2fb0"
      },
      "source": [
        "sns.set_style(\"darkgrid\")\n",
        "sns.scatterplot(data=df2, x=\"Harga\", \n",
        "                y=\"Ukuran\")"
      ],
      "execution_count": null,
      "outputs": [
        {
          "output_type": "execute_result",
          "data": {
            "text/plain": [
              "<matplotlib.axes._subplots.AxesSubplot at 0x7f6449fd4910>"
            ]
          },
          "metadata": {},
          "execution_count": 6
        },
        {
          "output_type": "display_data",
          "data": {
            "image/png": "[encoded data removed]",
            "text/plain": [
              "<Figure size 432x288 with 1 Axes>"
            ]
          },
          "metadata": {}
        }
      ]
    },
    {
      "cell_type": "markdown",
      "metadata": {
        "id": "mR_h3uNQvmJr"
      },
      "source": [
        "#**Data plot dan model regresi linier**"
      ]
    },
    {
      "cell_type": "code",
      "metadata": {
        "colab": {
          "base_uri": "https://localhost:8080/",
          "height": 383
        },
        "id": "mp_Zi-fDkpYh",
        "outputId": "b9def94b-efbc-4b8c-f559-2dab9b34940c"
      },
      "source": [
        "sns.set_style(\"whitegrid\")\n",
        "ax = sns.regplot(data=df2, x=\"Harga\", \n",
        "                y=\"Ukuran\")\n",
        "\n",
        "yt = np.array([0, 100, 300, 500, 700, 900])\n",
        "yx = yt*10\n",
        "ax.set_yticks(yt)\n",
        "ax.set_xticks(yx)"
      ],
      "execution_count": null,
      "outputs": [
        {
          "output_type": "execute_result",
          "data": {
            "text/plain": [
              "[<matplotlib.axis.XTick at 0x7f6445a29790>,\n",
              " <matplotlib.axis.XTick at 0x7f6445a34c50>,\n",
              " <matplotlib.axis.XTick at 0x7f6445a2e810>,\n",
              " <matplotlib.axis.XTick at 0x7f64459fdc50>,\n",
              " <matplotlib.axis.XTick at 0x7f6445a06210>,\n",
              " <matplotlib.axis.XTick at 0x7f6445a06710>]"
            ]
          },
          "metadata": {},
          "execution_count": 7
        },
        {
          "output_type": "display_data",
          "data": {
            "image/png": "[encoded data removed]",
            "text/plain": [
              "<Figure size 432x288 with 1 Axes>"
            ]
          },
          "metadata": {}
        }
      ]
    },
    {
      "cell_type": "markdown",
      "metadata": {
        "id": "rBhhOTwKv0B1"
      },
      "source": [
        "#**Korelasi**"
      ]
    },
    {
      "cell_type": "code",
      "metadata": {
        "colab": {
          "base_uri": "https://localhost:8080/",
          "height": 286
        },
        "id": "2Wz8CI5VmZmd",
        "outputId": "c0eddd32-4521-4892-a310-bc35a0cbde8c"
      },
      "source": [
        "datacor = df2.corr()\n",
        "sns.heatmap(datacor)"
      ],
      "execution_count": null,
      "outputs": [
        {
          "output_type": "execute_result",
          "data": {
            "text/plain": [
              "<matplotlib.axes._subplots.AxesSubplot at 0x7f64459a7ed0>"
            ]
          },
          "metadata": {},
          "execution_count": 8
        },
        {
          "output_type": "display_data",
          "data": {
            "image/png": "[encoded data removed]",
            "text/plain": [
              "<Figure size 432x288 with 2 Axes>"
            ]
          },
          "metadata": {}
        }
      ]
    },
    {
      "cell_type": "code",
      "metadata": {
        "colab": {
          "base_uri": "https://localhost:8080/"
        },
        "id": "dNLmquATN7ET",
        "outputId": "bd9fa532-51b9-47a2-ae3c-6c6cca0e0227"
      },
      "source": [
        "X = np.asarray(df2)\n",
        "print (X)"
      ],
      "execution_count": null,
      "outputs": [
        {
          "output_type": "stream",
          "name": "stdout",
          "text": [
            "[[1400  110]\n",
            " [2600  260]\n",
            " [3200  410]\n",
            " [3400  470]\n",
            " [3700  530]\n",
            " [3700  530]\n",
            " [3800  620]\n",
            " [3800  650]\n",
            " [4000  680]\n",
            " [4200  680]\n",
            " [4400  710]\n",
            " [4800  740]\n",
            " [4900  800]\n",
            " [5200  860]\n",
            " [5700  950]]\n"
          ]
        }
      ]
    },
    {
      "cell_type": "code",
      "metadata": {
        "id": "Xep3XGL49H_G"
      },
      "source": [
        "distortions = []\n",
        "K = range(1,9)\n",
        "for k in K:\n",
        "    kmeanModel = KMeans(n_clusters=k)\n",
        "    kmeanModel.fit(df)\n",
        "    distortions.append(kmeanModel.inertia_)"
      ],
      "execution_count": null,
      "outputs": []
    },
    {
      "cell_type": "markdown",
      "metadata": {
        "id": "6I-agWwnDlVm"
      },
      "source": [
        "*distortions adalah variabel yang berisi Sum of squared Error*"
      ]
    },
    {
      "cell_type": "code",
      "metadata": {
        "id": "ej03MgP-9PaM",
        "colab": {
          "base_uri": "https://localhost:8080/",
          "height": 241
        },
        "outputId": "db9cfd3c-8401-4981-9813-0fdf0bdf4fb5"
      },
      "source": [
        "plt.figure(figsize=(6,3))\n",
        "plt.plot(K, distortions)\n",
        "plt.xlabel('Jumlah Centroid')\n",
        "plt.ylabel('Distorsi')\n",
        "plt.title('Grafik Elbow')\n",
        "plt.show()  "
      ],
      "execution_count": null,
      "outputs": [
        {
          "output_type": "display_data",
          "data": {
            "image/png": "[encoded data removed]",
            "text/plain": [
              "<Figure size 432x216 with 1 Axes>"
            ]
          },
          "metadata": {}
        }
      ]
    },
    {
      "cell_type": "code",
      "metadata": {
        "id": "FlKpkTC9OEcY",
        "colab": {
          "base_uri": "https://localhost:8080/"
        },
        "outputId": "bc52a5a4-fede-4080-c0a8-2085f5ac549f"
      },
      "source": [
        "kmeans = KMeans(n_clusters=3)\n",
        "kmeans.fit(X)"
      ],
      "execution_count": null,
      "outputs": [
        {
          "output_type": "execute_result",
          "data": {
            "text/plain": [
              "KMeans(algorithm='auto', copy_x=True, init='k-means++', max_iter=300,\n",
              "       n_clusters=3, n_init=10, n_jobs=None, precompute_distances='auto',\n",
              "       random_state=None, tol=0.0001, verbose=0)"
            ]
          },
          "metadata": {},
          "execution_count": 12
        }
      ]
    },
    {
      "cell_type": "code",
      "metadata": {
        "id": "U4Q3W7M0htga"
      },
      "source": [
        "cluster_cent = kmeans.cluster_centers_"
      ],
      "execution_count": null,
      "outputs": []
    },
    {
      "cell_type": "code",
      "metadata": {
        "id": "fDcHlPiIOHyx",
        "colab": {
          "base_uri": "https://localhost:8080/",
          "height": 312
        },
        "outputId": "f38d01ae-d348-4db1-c9a2-476650af0138"
      },
      "source": [
        "#plot data\n",
        "plt.scatter(X[:,0],X[:,1], c=kmeans.labels_,  cmap='rainbow', s=65)\n",
        "\n",
        "#plot centroid\n",
        "plt.scatter(cluster_cent[:,0],cluster_cent[:,1], c='black',\n",
        "            marker='x')\n",
        "\n",
        "plt.xlabel(\"Harga\")\n",
        "plt.ylabel(\"Ukuran\")\n",
        "plt.title(\"Grafik Cluster \")\n",
        "plt.legend(['Data', 'Centroid'])\n",
        "plt.show"
      ],
      "execution_count": null,
      "outputs": [
        {
          "output_type": "execute_result",
          "data": {
            "text/plain": [
              "<function matplotlib.pyplot.show>"
            ]
          },
          "metadata": {},
          "execution_count": 14
        },
        {
          "output_type": "display_data",
          "data": {
            "image/png": "[encoded data removed]",
            "text/plain": [
              "<Figure size 432x288 with 1 Axes>"
            ]
          },
          "metadata": {}
        }
      ]
    },
    {
      "cell_type": "markdown",
      "metadata": {
        "id": "djzOsKsgv_aY"
      },
      "source": [
        "#**Nilai Centroid hasil K-Means Cluster**"
      ]
    },
    {
      "cell_type": "code",
      "metadata": {
        "id": "hRyOa_-xioqf",
        "colab": {
          "base_uri": "https://localhost:8080/"
        },
        "outputId": "780a42e8-303c-48dd-b105-d917a374e584"
      },
      "source": [
        "cluster_cent"
      ],
      "execution_count": null,
      "outputs": [
        {
          "output_type": "execute_result",
          "data": {
            "text/plain": [
              "array([[5150.        ,  837.5       ],\n",
              "       [2000.        ,  185.        ],\n",
              "       [3800.        ,  586.66666667]])"
            ]
          },
          "metadata": {},
          "execution_count": 15
        }
      ]
    },
    {
      "cell_type": "code",
      "metadata": {
        "colab": {
          "base_uri": "https://localhost:8080/"
        },
        "id": "X1nB2Z3oniz5",
        "outputId": "a5e5f586-d660-41b0-fd9b-94163660057d"
      },
      "source": [
        "Anggota = ['Mellisa', 'Arifa', 'Prissy', 'Taufiq', 'Banyu']\n",
        "yolo = [random.choice(Anggota) for i in range(3)]\n",
        "yolo"
      ],
      "execution_count": null,
      "outputs": [
        {
          "output_type": "execute_result",
          "data": {
            "text/plain": [
              "['Taufiq', 'Prissy', 'Mellisa']"
            ]
          },
          "metadata": {},
          "execution_count": 16
        }
      ]
    }
  ]
}