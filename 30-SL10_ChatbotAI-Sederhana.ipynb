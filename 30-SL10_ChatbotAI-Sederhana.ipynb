{
  "nbformat": 4,
  "nbformat_minor": 0,
  "metadata": {
    "kernelspec": {
      "display_name": "Python 3",
      "language": "python",
      "name": "python3"
    },
    "language_info": {
      "codemirror_mode": {
        "name": "ipython",
        "version": 3
      },
      "file_extension": ".py",
      "mimetype": "text/x-python",
      "name": "python",
      "nbconvert_exporter": "python",
      "pygments_lexer": "ipython3",
      "version": "3.8.8"
    },
    "colab": {
      "name": "30-SL10_ChatbotAI-Sederhana.ipynb",
      "provenance": [],
      "collapsed_sections": [],
      "include_colab_link": true
    }
  },
  "cells": [
    {
      "cell_type": "markdown",
      "metadata": {
        "id": "view-in-github",
        "colab_type": "text"
      },
      "source": [
        "<a href=\"https://colab.research.google.com/github/prissyyy/Studi-Independen/blob/main/30-SL10_ChatbotAI-Sederhana.ipynb\" target=\"_parent\"><img src=\"https://colab.research.google.com/assets/colab-badge.svg\" alt=\"Open In Colab\"/></a>"
      ]
    },
    {
      "cell_type": "markdown",
      "metadata": {
        "id": "iP8sAWF-W01Q"
      },
      "source": [
        "Selasa, 27 Okt 2021 (AI Chatbot with NLP)"
      ]
    },
    {
      "cell_type": "markdown",
      "metadata": {
        "id": "za1gVNL5CRGY"
      },
      "source": [
        "# AI Chatbot in Python\n",
        "> Chatbot sederhana ini menggunakan konsep sederhana penerapan Cosine Similarity\n",
        "\n",
        "> Disini program Chatbot dibuat dengan sesuai kebutuhan pengguna, jadi kita bisa memilih apakah harus membuat program ini bisa bekerja pada topik tertentu, misalnya untuk Chatbot berbasis Covid-19, atau yang lainnya yang sedang relevan."
      ]
    },
    {
      "cell_type": "markdown",
      "metadata": {
        "id": "Pt_nIQhKYOUD"
      },
      "source": [
        "SUMBER MATERI\n",
        "\n",
        "[Towards Data Science](https://towardsdatascience.com/making-a-simple-and-fast-chatbot-in-10-minutes-2d84a4ba35e)\n",
        "\n",
        "[Youtube](https://youtu.be/9KZwRBg4-P0)"
      ]
    },
    {
      "cell_type": "markdown",
      "metadata": {
        "id": "13bhW1xT-QrH"
      },
      "source": [
        "# Tools Scraping Artikel\n",
        "\n",
        "Pada program kali ini kita akan mengambil teks dari internet menggunakan tools newspaper3k, dimana tools ini memiliki beberapa kelebihan yaitu:\n",
        "1. Kerangka kerja dalam mengunduh artikel yang multi-thread\n",
        "2. Dapat mengidentifikasi URL baru\n",
        "3. Mampu mengekstraksi teks dari HTML\n",
        "4. Terbaik dalam hal ekstraksi gambar dari HTML\n",
        "5. Mampu mengekstraksi semua gambar dari HTML\n",
        "6. Dapat mengekstraksi kata kunci dari teks\n",
        "7. Dapat mengekstrak ringkasan teks\n",
        "8. Dapat mengekstraksi nama penulis suatu artikel\n",
        "9. Dapat mengekstraksi istilah yang sedang trend di mesin pencarian Google\n",
        "10. Dapat bekerja lebih dari 10 bahasa (termasuk Inggris, Jerman, Arab, China, dll)"
      ]
    },
    {
      "cell_type": "code",
      "metadata": {
        "colab": {
          "base_uri": "https://localhost:8080/"
        },
        "id": "HKNU73oP6xNS",
        "outputId": "84f8bf34-359e-4c35-bbd5-758bd14720e0"
      },
      "source": [
        "!pip install newspaper3k"
      ],
      "execution_count": 1,
      "outputs": [
        {
          "output_type": "stream",
          "name": "stdout",
          "text": [
            "Collecting newspaper3k\n",
            "  Downloading newspaper3k-0.2.8-py3-none-any.whl (211 kB)\n",
            "\u001b[K     |████████████████████████████████| 211 kB 7.7 MB/s \n",
            "\u001b[?25hRequirement already satisfied: lxml>=3.6.0 in /usr/local/lib/python3.7/dist-packages (from newspaper3k) (4.2.6)\n",
            "Requirement already satisfied: requests>=2.10.0 in /usr/local/lib/python3.7/dist-packages (from newspaper3k) (2.23.0)\n",
            "Collecting tldextract>=2.0.1\n",
            "  Downloading tldextract-3.1.2-py2.py3-none-any.whl (87 kB)\n",
            "\u001b[K     |████████████████████████████████| 87 kB 8.0 MB/s \n",
            "\u001b[?25hRequirement already satisfied: python-dateutil>=2.5.3 in /usr/local/lib/python3.7/dist-packages (from newspaper3k) (2.8.2)\n",
            "Requirement already satisfied: PyYAML>=3.11 in /usr/local/lib/python3.7/dist-packages (from newspaper3k) (3.13)\n",
            "Collecting feedfinder2>=0.0.4\n",
            "  Downloading feedfinder2-0.0.4.tar.gz (3.3 kB)\n",
            "Requirement already satisfied: nltk>=3.2.1 in /usr/local/lib/python3.7/dist-packages (from newspaper3k) (3.2.5)\n",
            "Collecting jieba3k>=0.35.1\n",
            "  Downloading jieba3k-0.35.1.zip (7.4 MB)\n",
            "\u001b[K     |████████████████████████████████| 7.4 MB 25.3 MB/s \n",
            "\u001b[?25hRequirement already satisfied: Pillow>=3.3.0 in /usr/local/lib/python3.7/dist-packages (from newspaper3k) (7.1.2)\n",
            "Collecting cssselect>=0.9.2\n",
            "  Downloading cssselect-1.1.0-py2.py3-none-any.whl (16 kB)\n",
            "Requirement already satisfied: beautifulsoup4>=4.4.1 in /usr/local/lib/python3.7/dist-packages (from newspaper3k) (4.6.3)\n",
            "Collecting tinysegmenter==0.3\n",
            "  Downloading tinysegmenter-0.3.tar.gz (16 kB)\n",
            "Collecting feedparser>=5.2.1\n",
            "  Downloading feedparser-6.0.8-py3-none-any.whl (81 kB)\n",
            "\u001b[K     |████████████████████████████████| 81 kB 1.1 MB/s \n",
            "\u001b[?25hRequirement already satisfied: six in /usr/local/lib/python3.7/dist-packages (from feedfinder2>=0.0.4->newspaper3k) (1.15.0)\n",
            "Collecting sgmllib3k\n",
            "  Downloading sgmllib3k-1.0.0.tar.gz (5.8 kB)\n",
            "Requirement already satisfied: chardet<4,>=3.0.2 in /usr/local/lib/python3.7/dist-packages (from requests>=2.10.0->newspaper3k) (3.0.4)\n",
            "Requirement already satisfied: certifi>=2017.4.17 in /usr/local/lib/python3.7/dist-packages (from requests>=2.10.0->newspaper3k) (2021.5.30)\n",
            "Requirement already satisfied: idna<3,>=2.5 in /usr/local/lib/python3.7/dist-packages (from requests>=2.10.0->newspaper3k) (2.10)\n",
            "Requirement already satisfied: urllib3!=1.25.0,!=1.25.1,<1.26,>=1.21.1 in /usr/local/lib/python3.7/dist-packages (from requests>=2.10.0->newspaper3k) (1.24.3)\n",
            "Collecting requests-file>=1.4\n",
            "  Downloading requests_file-1.5.1-py2.py3-none-any.whl (3.7 kB)\n",
            "Requirement already satisfied: filelock>=3.0.8 in /usr/local/lib/python3.7/dist-packages (from tldextract>=2.0.1->newspaper3k) (3.3.0)\n",
            "Building wheels for collected packages: tinysegmenter, feedfinder2, jieba3k, sgmllib3k\n",
            "  Building wheel for tinysegmenter (setup.py) ... \u001b[?25l\u001b[?25hdone\n",
            "  Created wheel for tinysegmenter: filename=tinysegmenter-0.3-py3-none-any.whl size=13552 sha256=297c72f4a32b3c8dd4d434f059b076e14b3e6fe5e0a845369e6a889bb86a0769\n",
            "  Stored in directory: /root/.cache/pip/wheels/df/67/41/faca10fa501ca010be41b49d40360c2959e1c4f09bcbfa37fa\n",
            "  Building wheel for feedfinder2 (setup.py) ... \u001b[?25l\u001b[?25hdone\n",
            "  Created wheel for feedfinder2: filename=feedfinder2-0.0.4-py3-none-any.whl size=3356 sha256=b07dd282398124e1142748819b1ecdeac2f6b06f70b53585be7a6699a682cddf\n",
            "  Stored in directory: /root/.cache/pip/wheels/7f/d4/8f/6e2ca54744c9d7292d88ddb8d42876bcdab5e6d84a21c10346\n",
            "  Building wheel for jieba3k (setup.py) ... \u001b[?25l\u001b[?25hdone\n",
            "  Created wheel for jieba3k: filename=jieba3k-0.35.1-py3-none-any.whl size=7398405 sha256=d83befc532e1c4ea292aff0cd784361f9617fec632bff3274538766be39554bf\n",
            "  Stored in directory: /root/.cache/pip/wheels/4c/91/46/3c208287b726df325a5979574324878b679116e4baae1af3c3\n",
            "  Building wheel for sgmllib3k (setup.py) ... \u001b[?25l\u001b[?25hdone\n",
            "  Created wheel for sgmllib3k: filename=sgmllib3k-1.0.0-py3-none-any.whl size=6065 sha256=6a82a11d9ff4c6d4342ba6bea0498399ec0a6ac3936255c117b9c8ccc1dd8776\n",
            "  Stored in directory: /root/.cache/pip/wheels/73/ad/a4/0dff4a6ef231fc0dfa12ffbac2a36cebfdddfe059f50e019aa\n",
            "Successfully built tinysegmenter feedfinder2 jieba3k sgmllib3k\n",
            "Installing collected packages: sgmllib3k, requests-file, tldextract, tinysegmenter, jieba3k, feedparser, feedfinder2, cssselect, newspaper3k\n",
            "Successfully installed cssselect-1.1.0 feedfinder2-0.0.4 feedparser-6.0.8 jieba3k-0.35.1 newspaper3k-0.2.8 requests-file-1.5.1 sgmllib3k-1.0.0 tinysegmenter-0.3 tldextract-3.1.2\n"
          ]
        }
      ]
    },
    {
      "cell_type": "code",
      "metadata": {
        "id": "nw0cmlTSbegY"
      },
      "source": [
        "# Import Library\n",
        "from newspaper import Article\n",
        "import random # untuk membangkitkan nilai random\n",
        "import nltk # tools untuk NLP\n",
        "import string # untuk fungsi string\n",
        "from sklearn.feature_extraction.text import CountVectorizer \n",
        "from sklearn.metrics.pairwise import cosine_similarity \n",
        "import numpy as np\n",
        "import warnings\n",
        "warnings.filterwarnings('ignore')"
      ],
      "execution_count": 2,
      "outputs": []
    },
    {
      "cell_type": "code",
      "metadata": {
        "colab": {
          "base_uri": "https://localhost:8080/"
        },
        "id": "rWcabMVt8vJu",
        "outputId": "a9d72fa1-5395-46e9-fa1d-c5410b3542de"
      },
      "source": [
        "nltk.download('punkt', quiet=True)"
      ],
      "execution_count": 3,
      "outputs": [
        {
          "output_type": "execute_result",
          "data": {
            "text/plain": [
              "True"
            ]
          },
          "metadata": {},
          "execution_count": 3
        }
      ]
    },
    {
      "cell_type": "markdown",
      "metadata": {
        "id": "LTnOWF68CRGk"
      },
      "source": [
        "# Proses 1 (Membuat korpus dengan mendownload artikel dari sebuah link)\n",
        "\n",
        "Link dapat diganti dengan link teks berbhasa Indonesia, tetapi kali ini kita mencoba menggunakan teks berbahasa Inggris terlebih dahulu. "
      ]
    },
    {
      "cell_type": "code",
      "metadata": {
        "id": "1XNkETqS86m3"
      },
      "source": [
        "article = Article('https://www.mayoclinic.org/diseases-conditions/chronic-kidney-disease/symptoms-causes/syc-20354521')\n",
        "article.download()\n",
        "article.parse()\n",
        "article.nlp()\n",
        "corpus = article.text"
      ],
      "execution_count": 7,
      "outputs": []
    },
    {
      "cell_type": "code",
      "metadata": {
        "colab": {
          "base_uri": "https://localhost:8080/",
          "height": 100
        },
        "id": "FE1GgET-9TQq",
        "outputId": "bf756a9e-e6d0-4232-b688-dba83f4fc4c2"
      },
      "source": [
        "corpus"
      ],
      "execution_count": 8,
      "outputs": [
        {
          "output_type": "execute_result",
          "data": {
            "application/vnd.google.colaboratory.intrinsic+json": {
              "type": "string"
            },
            "text/plain": [
              "\"Overview\\n\\nChronic kidney disease, also called chronic kidney failure, involves a gradual loss of kidney function. Your kidneys filter wastes and excess fluids from your blood, which are then removed in your urine. Advanced chronic kidney disease can cause dangerous levels of fluid, electrolytes and wastes to build up in your body.\\n\\nIn the early stages of chronic kidney disease, you might have few signs or symptoms. You might not realize that you have kidney disease until the condition is advanced.\\n\\nTreatment for chronic kidney disease focuses on slowing the progression of kidney damage, usually by controlling the cause. But, even controlling the cause might not keep kidney damage from progressing. Chronic kidney disease can progress to end-stage kidney failure, which is fatal without artificial filtering (dialysis) or a kidney transplant.\\n\\nHow kidneys work Show transcript for video How kidneys work One of the important jobs of the kidneys is to clean the blood. As blood moves through the body, it picks up extra fluid, chemicals and waste. The kidneys separate this material from the blood. It's carried out of the body in urine. If the kidneys are unable to do this and the condition is untreated, serious health problems result, with eventual loss of life.\\n\\nSymptoms\\n\\nSigns and symptoms of chronic kidney disease develop over time if kidney damage progresses slowly. Loss of kidney function can cause a buildup of fluid or body waste or electrolyte problems. Depending on how severe it is, loss of kidney function can cause:\\n\\nNausea\\n\\nVomiting\\n\\nLoss of appetite\\n\\nFatigue and weakness\\n\\nSleep problems\\n\\nUrinating more or less\\n\\nDecreased mental sharpness\\n\\nMuscle cramps\\n\\nSwelling of feet and ankles\\n\\nDry, itchy skin\\n\\nHigh blood pressure (hypertension) that's difficult to control\\n\\nShortness of breath, if fluid builds up in the lungs\\n\\nChest pain, if fluid builds up around the lining of the heart\\n\\nSigns and symptoms of kidney disease are often nonspecific. This means they can also be caused by other illnesses. Because your kidneys are able to make up for lost function, you might not develop signs and symptoms until irreversible damage has occurred.\\n\\nWhen to see a doctor\\n\\nMake an appointment with your doctor if you have signs or symptoms of kidney disease. Early detection might help prevent kidney disease from progressing to kidney failure.\\n\\nIf you have a medical condition that increases your risk of kidney disease, your doctor may monitor your blood pressure and kidney function with urine and blood tests during office visits. Ask your doctor whether these tests are necessary for you.\\n\\nCauses\\n\\nHealthy kidney vs. diseased kidney Open pop-up dialog box Close Healthy kidney vs. diseased kidney Healthy kidney vs. diseased kidney A typical kidney has about 1 million filtering units. Each unit, called a glomerulus, connects to a tubule, which collects urine. Conditions such as high blood pressure and diabetes take a toll on kidney function by damaging these filtering units and collecting tubules and causing scarring.\\n\\nPolycystic kidney Open pop-up dialog box Close Polycystic kidney Polycystic kidney A healthy kidney (left) eliminates waste from the blood and maintains the body's chemical balance. With polycystic kidney disease (right), fluid-filled sacs called cysts develop in the kidneys. The kidneys grow larger and gradually lose the ability to function as they should.\\n\\nChronic kidney disease occurs when a disease or condition impairs kidney function, causing kidney damage to worsen over several months or years.\\n\\nDiseases and conditions that cause chronic kidney disease include:\\n\\nType 1 or type 2 diabetes\\n\\nHigh blood pressure\\n\\nGlomerulonephritis (gloe-mer-u-low-nuh-FRY-tis), an inflammation of the kidney's filtering units (glomeruli)\\n\\nInterstitial nephritis (in-tur-STISH-ul nuh-FRY-tis), an inflammation of the kidney's tubules and surrounding structures\\n\\nPolycystic kidney disease or other inherited kidney diseases\\n\\nProlonged obstruction of the urinary tract, from conditions such as enlarged prostate, kidney stones and some cancers\\n\\nVesicoureteral (ves-ih-koe-yoo-REE-tur-ul) reflux, a condition that causes urine to back up into your kidneys\\n\\nRecurrent kidney infection, also called pyelonephritis (pie-uh-low-nuh-FRY-tis)\\n\\nRisk factors\\n\\nFactors that can increase your risk of chronic kidney disease include:\\n\\nDiabetes\\n\\nHigh blood pressure\\n\\nHeart (cardiovascular) disease\\n\\nSmoking\\n\\nObesity\\n\\nBeing Black, Native American or Asian American\\n\\nFamily history of kidney disease\\n\\nAbnormal kidney structure\\n\\nOlder age\\n\\nFrequent use of medications that can damage the kidneys\\n\\nComplications\\n\\nChronic kidney disease can affect almost every part of your body. Potential complications include:\\n\\nFluid retention, which could lead to swelling in your arms and legs, high blood pressure, or fluid in your lungs (pulmonary edema)\\n\\nA sudden rise in potassium levels in your blood (hyperkalemia), which could impair your heart's function and can be life-threatening\\n\\nAnemia\\n\\nHeart disease\\n\\nWeak bones and an increased risk of bone fractures\\n\\nDecreased sex drive, erectile dysfunction or reduced fertility\\n\\nDamage to your central nervous system, which can cause difficulty concentrating, personality changes or seizures\\n\\nDecreased immune response, which makes you more vulnerable to infection\\n\\nPericarditis, an inflammation of the saclike membrane that envelops your heart (pericardium)\\n\\nPregnancy complications that carry risks for the mother and the developing fetus\\n\\nIrreversible damage to your kidneys (end-stage kidney disease), eventually requiring either dialysis or a kidney transplant for survival\\n\\nPrevention\\n\\nTo reduce your risk of developing kidney disease:\""
            ]
          },
          "metadata": {},
          "execution_count": 8
        }
      ]
    },
    {
      "cell_type": "markdown",
      "metadata": {
        "id": "bGmRAQ9WCRGl"
      },
      "source": [
        "# Proses 2 (Tokenization)"
      ]
    },
    {
      "cell_type": "code",
      "metadata": {
        "colab": {
          "base_uri": "https://localhost:8080/"
        },
        "id": "H1WDQ4Jx9bU7",
        "outputId": "0de53768-7052-4c8c-d249-d951c7e83fb3"
      },
      "source": [
        "# Tokenization\n",
        "text = corpus\n",
        "sentence_list = nltk.sent_tokenize(text)\n",
        "\n",
        "# Print the list of sentence\n",
        "print(sentence_list)"
      ],
      "execution_count": 9,
      "outputs": [
        {
          "output_type": "stream",
          "name": "stdout",
          "text": [
            "['Overview\\n\\nChronic kidney disease, also called chronic kidney failure, involves a gradual loss of kidney function.', 'Your kidneys filter wastes and excess fluids from your blood, which are then removed in your urine.', 'Advanced chronic kidney disease can cause dangerous levels of fluid, electrolytes and wastes to build up in your body.', 'In the early stages of chronic kidney disease, you might have few signs or symptoms.', 'You might not realize that you have kidney disease until the condition is advanced.', 'Treatment for chronic kidney disease focuses on slowing the progression of kidney damage, usually by controlling the cause.', 'But, even controlling the cause might not keep kidney damage from progressing.', 'Chronic kidney disease can progress to end-stage kidney failure, which is fatal without artificial filtering (dialysis) or a kidney transplant.', 'How kidneys work Show transcript for video How kidneys work One of the important jobs of the kidneys is to clean the blood.', 'As blood moves through the body, it picks up extra fluid, chemicals and waste.', 'The kidneys separate this material from the blood.', \"It's carried out of the body in urine.\", 'If the kidneys are unable to do this and the condition is untreated, serious health problems result, with eventual loss of life.', 'Symptoms\\n\\nSigns and symptoms of chronic kidney disease develop over time if kidney damage progresses slowly.', 'Loss of kidney function can cause a buildup of fluid or body waste or electrolyte problems.', \"Depending on how severe it is, loss of kidney function can cause:\\n\\nNausea\\n\\nVomiting\\n\\nLoss of appetite\\n\\nFatigue and weakness\\n\\nSleep problems\\n\\nUrinating more or less\\n\\nDecreased mental sharpness\\n\\nMuscle cramps\\n\\nSwelling of feet and ankles\\n\\nDry, itchy skin\\n\\nHigh blood pressure (hypertension) that's difficult to control\\n\\nShortness of breath, if fluid builds up in the lungs\\n\\nChest pain, if fluid builds up around the lining of the heart\\n\\nSigns and symptoms of kidney disease are often nonspecific.\", 'This means they can also be caused by other illnesses.', 'Because your kidneys are able to make up for lost function, you might not develop signs and symptoms until irreversible damage has occurred.', 'When to see a doctor\\n\\nMake an appointment with your doctor if you have signs or symptoms of kidney disease.', 'Early detection might help prevent kidney disease from progressing to kidney failure.', 'If you have a medical condition that increases your risk of kidney disease, your doctor may monitor your blood pressure and kidney function with urine and blood tests during office visits.', 'Ask your doctor whether these tests are necessary for you.', 'Causes\\n\\nHealthy kidney vs. diseased kidney Open pop-up dialog box Close Healthy kidney vs. diseased kidney Healthy kidney vs. diseased kidney A typical kidney has about 1 million filtering units.', 'Each unit, called a glomerulus, connects to a tubule, which collects urine.', 'Conditions such as high blood pressure and diabetes take a toll on kidney function by damaging these filtering units and collecting tubules and causing scarring.', \"Polycystic kidney Open pop-up dialog box Close Polycystic kidney Polycystic kidney A healthy kidney (left) eliminates waste from the blood and maintains the body's chemical balance.\", 'With polycystic kidney disease (right), fluid-filled sacs called cysts develop in the kidneys.', 'The kidneys grow larger and gradually lose the ability to function as they should.', 'Chronic kidney disease occurs when a disease or condition impairs kidney function, causing kidney damage to worsen over several months or years.', \"Diseases and conditions that cause chronic kidney disease include:\\n\\nType 1 or type 2 diabetes\\n\\nHigh blood pressure\\n\\nGlomerulonephritis (gloe-mer-u-low-nuh-FRY-tis), an inflammation of the kidney's filtering units (glomeruli)\\n\\nInterstitial nephritis (in-tur-STISH-ul nuh-FRY-tis), an inflammation of the kidney's tubules and surrounding structures\\n\\nPolycystic kidney disease or other inherited kidney diseases\\n\\nProlonged obstruction of the urinary tract, from conditions such as enlarged prostate, kidney stones and some cancers\\n\\nVesicoureteral (ves-ih-koe-yoo-REE-tur-ul) reflux, a condition that causes urine to back up into your kidneys\\n\\nRecurrent kidney infection, also called pyelonephritis (pie-uh-low-nuh-FRY-tis)\\n\\nRisk factors\\n\\nFactors that can increase your risk of chronic kidney disease include:\\n\\nDiabetes\\n\\nHigh blood pressure\\n\\nHeart (cardiovascular) disease\\n\\nSmoking\\n\\nObesity\\n\\nBeing Black, Native American or Asian American\\n\\nFamily history of kidney disease\\n\\nAbnormal kidney structure\\n\\nOlder age\\n\\nFrequent use of medications that can damage the kidneys\\n\\nComplications\\n\\nChronic kidney disease can affect almost every part of your body.\", \"Potential complications include:\\n\\nFluid retention, which could lead to swelling in your arms and legs, high blood pressure, or fluid in your lungs (pulmonary edema)\\n\\nA sudden rise in potassium levels in your blood (hyperkalemia), which could impair your heart's function and can be life-threatening\\n\\nAnemia\\n\\nHeart disease\\n\\nWeak bones and an increased risk of bone fractures\\n\\nDecreased sex drive, erectile dysfunction or reduced fertility\\n\\nDamage to your central nervous system, which can cause difficulty concentrating, personality changes or seizures\\n\\nDecreased immune response, which makes you more vulnerable to infection\\n\\nPericarditis, an inflammation of the saclike membrane that envelops your heart (pericardium)\\n\\nPregnancy complications that carry risks for the mother and the developing fetus\\n\\nIrreversible damage to your kidneys (end-stage kidney disease), eventually requiring either dialysis or a kidney transplant for survival\\n\\nPrevention\\n\\nTo reduce your risk of developing kidney disease:\"]\n"
          ]
        }
      ]
    },
    {
      "cell_type": "markdown",
      "metadata": {
        "id": "A0kZDPHxCRGm"
      },
      "source": [
        "# Proses 3 (Bot Response)\n",
        "\n",
        "Bot respon digunakan untuk membuat sebuah percakapan awal antara pengguna dengan bot, jadi disini user dapat menyapa bot, nah untuk kata-kata dapat diganti sesuai dengan kebutuhan, misalnya bahasa indonesia. \n",
        "\n",
        "Pada percakapan awal tidak menggunakan ML atau metode lainnya, program hanya menjawab dengan kata yang di cocokkan sebagai input."
      ]
    },
    {
      "cell_type": "code",
      "metadata": {
        "id": "aw0-1Yzl9zjE"
      },
      "source": [
        "# a function to return a random greeting response to a users greeting\n",
        "def greeting_response(text):\n",
        "  text = text.lower()\n",
        "\n",
        "  # Bots greeting respond\n",
        "  bot_greetings = ['howdy', 'hai', 'hello','hola']\n",
        "\n",
        "  # Users greeting\n",
        "  user_greetings = ['hi', 'hey', 'hello', 'greetings', 'wassup']\n",
        "\n",
        "  for word in text.split():\n",
        "    if word in user_greetings:\n",
        "      return random.choice(bot_greetings)\n",
        "\n",
        "  # Random response to greeting\n",
        "  def gratitude_response(text):\n",
        "    text = text.lower()"
      ],
      "execution_count": 10,
      "outputs": []
    },
    {
      "cell_type": "markdown",
      "metadata": {
        "id": "oB2YNM3i_EGs"
      },
      "source": [
        "1. Pada list kode bot_greetings itu bentuk kata sapaan bot terhadap sapaan yang kita berikan, dan dapat diganti dengan bahasa Indonesia atau lainnya.\n",
        "2. Sedangkan, pada list user_greetings itu kata sapaan input dari user dan dapat diganti dengan bahasa lainnya."
      ]
    },
    {
      "cell_type": "markdown",
      "metadata": {
        "id": "yRIEXF64_QTz"
      },
      "source": [
        "# Sorting List"
      ]
    },
    {
      "cell_type": "code",
      "metadata": {
        "id": "vwzpfjzn-4Wg"
      },
      "source": [
        "def index_sort(list_var):\n",
        "  length = len(list_var)\n",
        "  list_index = list(range(0, length))\n",
        "\n",
        "  x = list_var\n",
        "  for i in range(length):\n",
        "    for j in range(length):\n",
        "      if x[list_index[i]] > x[list_index[j]]:\n",
        "        #swap\n",
        "        temp = list_index[i]\n",
        "        list_index[i] = list_index[j]\n",
        "        list_index[j] = temp\n",
        "\n",
        "  return list_index"
      ],
      "execution_count": 11,
      "outputs": []
    },
    {
      "cell_type": "markdown",
      "metadata": {
        "id": "x2kmZHtG_Ww-"
      },
      "source": [
        "# Chatbot Respon Menggunakan Cosine Similarity\n",
        "\n",
        "Pada respon bot menggunakan teknis Cosine Similarity untuk menghitung kata yang cocok dengan yang di input user terhadap respon dari Bot"
      ]
    },
    {
      "cell_type": "code",
      "metadata": {
        "id": "iEBYip5O_4R8"
      },
      "source": [
        "# Creat Bots Response\n",
        "def bot_response(user_input):\n",
        "    user_input=user_input.lower()\n",
        "    sentence_list.append(user_input)\n",
        "    bot_response= ''\n",
        "    cm=CountVectorizer().fit_transform(sentence_list)\n",
        "    similarity_scores=cosine_similarity(cm[-1],cm)\n",
        "    similarity_scores_list=similarity_scores.flatten()\n",
        "    index=index_sort(similarity_scores_list)\n",
        "    index=index[1:]\n",
        "    response_flag=0\n",
        "    \n",
        "    j=0\n",
        "    for i in range(len(index)):\n",
        "        if similarity_scores_list[index[i]]>0.0:\n",
        "            bot_response=bot_response+' '+sentence_list[index[i]]\n",
        "            response_flag=1\n",
        "            j=j+1\n",
        "        if j>2:\n",
        "            break\n",
        "\n",
        "        if response_flag==0:\n",
        "            bot_response=bot_response+\" \"+\"I apologize, I dont understand\"\n",
        "\n",
        "        sentence_list.remove(user_input) \n",
        "\n",
        "        return bot_response"
      ],
      "execution_count": 12,
      "outputs": []
    },
    {
      "cell_type": "markdown",
      "metadata": {
        "id": "g1qvJa0l_c76"
      },
      "source": [
        "Pada listing kode >bot_response=bot_response+\" \"+\"I apologize, I dont understand\" pada list kode ini kata I apologize tujuannya untuk memberikan respon karena sistem tidak mengenali kata yang kita input, jadi sebagai bentuk respon bot kepada user. Kata tersebut bisa diganti dengan bahasa Indonesia, misalnya \"Maaf saya tidak mengetahui arti atau tidak mengenali kata-kata yang di input\"."
      ]
    },
    {
      "cell_type": "markdown",
      "metadata": {
        "id": "8-C33RGuCRGo"
      },
      "source": [
        "# Proses 4 (End Process, Making Chat Box)"
      ]
    },
    {
      "cell_type": "markdown",
      "metadata": {
        "id": "fKfLCgx3mmaw"
      },
      "source": [
        "![image.png](data:image/png;base64,iVBORw0KGgoAAAANSUhEUgAAA7oAAAEjCAYAAAAc8n3PAAAgAElEQVR4Ae2dvY7ktra26yb6Fnw7DcwFDAz4KiZpdODAMLDxXYGBbg/gMeDAwQE6cOJuwAYmmuQ489in7ZnAiWMFe2/zA0mRXPyVSipVlVRP0KgqiT+Laz2k+IqUetd1neIPH8AADMAADMAADMDA+hn43//9X+Z1zG1hAAZgoOvUjova+i9qxJAYwgAMwAAMwAAMaAYQunDAWAADMGAZQOjue8fn7a3a/b879bxvPtJzZwkGYAAGYAAGYGBhBhC6iBxEDgzAwIGE7uPdTt2+1YU9qtvba3X3fwKu/7tT17c7tfN/pfO36nGJQd/UPaNsLWhLdh9A6GqfXf/PMxf7JeJOmXAFAzAAAzBwwQwgdMU89II5QOjAAQwcYOvy450Tr1roSmGpfzsRXIFtrhhtDWAzyn7+n2u1i0T7s7q761dxEbpMoFrccQ4+YAAGYAAGTsgAQrcy5zxhTBAcxAQGTsPA9K3L0YqnXLXtVyvNeSl8ZQOtCA4rpi6/E8067bO6+3/u+C7ZLmzP6ZVkvTpqy3F5x5QtbUm/Dwj0Xug+GjFs605XZ61QTu3qVHzcnd+p3d0jkwIuQDAAAzAAAzAAA7MZQOim8zp+I7Jg4FIZmC50zcVIi8JezGYrnU5w1sRup7rGquvz/9yKbdBW2AZBGUSwO2YErxSMjbKbwW4K9E515rwQp2n6/7tTt2JbshG3yTO9bF1mwGkyyERv9kQP/9LHYAAGLpUBhC7sXyr7tBv2UwYOJnSNoJNCs5+shxXXwjbmPcRoXH4vdGV9qdDeo+zIKalwTUVHWk/p2WSZp2AHQpeOGDEneeE7IhcGYAAGYGAGAwhd5hjMMWAABiwDk4WuFLDxFuTKCq4RkMlLmAoi0AfGnBPbe/WLobywDVuXffr0otAqO00rf88WumG1Ofgl9glClwGoyq1kke9MdmEABmAABvZkAKHLHIM5BgzAwEyhaxwoVjfHiDcjjr1YbW1dttue3bZkXVdpRde+7bkC81Sh2wvsatmizRYibat7Prh/ZlhuVS7YMcZXAFqJ654XfPyIH2EABmAABi6JAYQuvF8S77QV3lsMTF7RNYVq0dcLVy3equLQiJNcvNp/SVTKZ9P68nrx6epyL6ry54viJymjmKYMhxHk7tljk6/11uWC0PVi3q3uxiu6ped2W0HiXDlO+AW/wAAMwAAMwEDMAEI39gd84A8YuFwGZgndsMqabyU25/z/oS2/ndiAZ7YKuy3KYWU0zn+r7vRbjhMB2Ra64sVRxo5Q9hjgrdjN7TIvo5Irtukzuk6U922//R/9v4RjoeuEut/a7Nt1uSCOiQlp4AMGYAAGYAAG2gwgdNv+gR/8AwOXw8AsoQsolwMKsSbWMAADMAADMHD+DCB0zz9G9CNiBAPHYQChu8eWZqA8DpT4GT/DAAzAAAzAwDQGELrT/AZv+A0GtscAQhehyxstYQAGYAAGYAAGNsIAQnd7k3UEGDGFgWkMIHQ3cmGjA0zrAPgNv8EADMAADGyJAYQuPG+JZ9oCz3MYQOgidLmLDwMwAAMwAAMwsBEGELoIgznCgLzwsyUGELobubBtCUrawiALAzAAAzAAA9MYQOhO8xu84TcY2B4DCF2ELnfxYQAGYAAGYAAGNsIAQnd7k3UEGDGFgWkMIHQ3cmGjA0zrAPgNv8EADMAADGyJAYQuPG+JZ9oCz3MYQOgidLmLDwMwAAMwAAMwsBEGELoIgznCgLzwsyUGTi50Pzx8pl69/ER9/W4psJ7V3Yudun2S5f+kHq6u1Hff/qm639+o766u1MPP8jzftwT5Ym35+Uv1+tM36o/VT47+VE+fnlMfsP2z5Nt3X1yp11f2z/TfyPd9PnP+pXr6nX68GPuR39fq5zpnJ/PbascU7cvT9rk/vn1pxobDXsstI0Nl2nFpuP06XT5uHb7/7C10zTzoS/Uu6ddj23Wy/pLYexA7+jnh6y9+qtz4sddLdx2qpzt8XA/SviV8ttUyB1m4pBgvPE/U177+GmLH8mQ8en+nrl/cqecJrK1Y6H5QP9wOC+THm53a3TwmA5a9eBWFrnF2mEzrwewYFyYzgLlO1U/kp9S91IXUTSL84K5tPAORV7IrnZTEaYYnI6MvJrMnpQsPHKMHhH3sSC7yVdE55wIwLEDanJ9+0j2aodExmuNP8pbjMcxZOd+C/pw9pgzZtk9fHypLnj99n3PjfDr+z4uhZWSozLGCsD1uSX/O+47QneE/Nw+rCF3D2RnMfeZxPcM/2TVr5piy+Jg3o60tFmbZPdNnWQxmtHF0WQvbrP3ZErpdp8p6brjtJxe60zvrCKH7dKt2u1v1mAVSBiy5QBtnizsJPehHEbumLiHE0t9ZO/IAL30hPbdBPrPHxC+sTqbnze8rEd8RPq0yOmug07GTHOaxrNY7x+Zi3il22DxH6RcFm9ucJ326kP94vj1lXKl7dXGePaYMxXxKXx8qU5/fap8bJ3THctYet8b4eVyaQwndse26pHTHiuF6fDpzTFl8zBvXZ/b29yy7Z/rsJHOahW02eqefm1d9W9qhOxzfGUJXC83P1A8f36qvX35ith+/evm52PoShOi7r9x5nd4ZJfPJ4/p8u+xQnivXfv7r4YNYuZ3mkE47OBVCyTErlsKqb363114c/ern2Lt/mbDNwarVnR73dad3JU0d01epTT1j2yM7o/FhyWfaV1+qp37b2Xff/mS20bo7O0ODT8mecKw0+cp9amMebBst3vrO+K63vbQCry+KPhZia198PKQZXXfXqTjm4gaJEdD6t+QwFffynK0/59j11dKn9eM+9trHBFI7OmX83zMVtSllV/DUnmyU4l5qQ3rMtsnHS3KuY/3FT5HP07ZHtovHIcq2phzG8YjK9hcAkUbaJvyS9pfQF0Jb02M1u3VZ5pyMg7fFlufaJsvYhyOZz/jdtyv1T8EWI64qfafvm3/0450pW7QjqlccD/4Tvi7t6knGsyhejXjY8uOyo62PM8aU0o0zGb9DjDn1sVK36aV6+tk+ChTHsusfEdJ9X7Tdxzqw5PueGCutiP5SvZOxjPKKMqN8gXlbRmBl/G4kW7Zn2tng6ne/zc6WwtjW38wM7ZLXXl12q1392Oh3eIkx3vCX1CeOjRK6CcPRvGfvdpVscf4Wdvd9I+p/WcyScTidj0mGSn1zsP9JLuLvso+U+7S1rXwuLiuMJS6OJR+FY7FPws36MeNwVFfU/nwcDWNQiEtcdzhuxxT9W/axYLP0V5nxhk8ixhwr+jOU7x4t9GUXx+p6HXG78nJlHG1bQhrZNpkus8n3z5C3Ho9OyXJ9uzzHJb7iY7pN2h5Zjh+fTOxlrOR4U/dTy95wzrEky3dtjm20efJj1XhEzA7YqRcw99zCPFPoaoEZRKoRoF+97cWmFbr6+VsnQOPzrjFa8IYyrINcXnfc/nblyDTVZ3v1fu7iaq6rt/IpLhY+wKZD9p0/PW9+y4HBQhB1jLFBlPXoPOa3A6kwWGZ1207UrLsfXJppGvYaUN1FvpHO+86k+Uk9yAEq8mHfafR5c9wO8LoTj7GxaI8rP/Vfb68ZIJw9BR/Gtlc40WX19vqJahK/1DbbyUU856zo/v5GPehnzPs2xXXZASbcLEgHnPLveLBstNvUmZYxlF6f17GWfaXPo/2YMGXa42LUt9G1VX+2+ajUUyhHlvnHt1+K53qT9qWxNr9FLCus6fLLbbHlW58ndfUTOR+Pvs+GeNo+48+32pUw6cSQ71tpO8zvEKPM9qSd/mLbxyrmcICJUt2eA+kfW05sy4DPTNli0pT5oVSms3eg7BrHrTiIc+++ENyksXZ2O/YTu1P/mt9+YjjkM92+PI3sA83vCRtx2n4c97YkjJp26Hg4tuLz7XYNlO19q9O58l0s9afN75n36WWa2ndhZ9+GYr8z52RcbXnRtSYbtwbalcTeXm9cHcKuvj2yrkGhm5ZdsT+bg/R1xX0x8V1adtrPm9eu2njp6hjqmy7dvM/8+uJiJQWZ5Hmovna84ti6uUVgOfN3LV4FtvO2aFu1PX35zXhYf4d+m/pflzVjTNH2aj78uC/9mPrM/h7djxPu0jHG+rz3QZJWjm1l/7Xslm2ofa/7LLMz6U/mvBfGjhU3LqTxSX1Ys2fMcVt2YKEX7bVrf2J3ynjWzgK7Mg7h+6O63V2ru/djbLZpZgvdSGi++1y9uv1GfTAG92LVC99OddF5Z2Rd6MqyzUurZFlm1bfxjO4E1W8cWQTeDQopRLYNsiNMD54TtvFAGi6qw3Vr+6UtAQzn6/mfs9rnQXb+1PaI72LAG9uOoj3uIiDKk74weUznLPtUpm1+z8qX5ZUGGHs+jWn4PSM+rs3Gx2k9yeShYvd+dsi2jrVb5wkX1+/6SXGIRyindEzGos2HYMozF8qW5bS+RzZkPkvqMP6P78L7snXe/mIQ7Bb5dd7kQh/VXSg7lDPcrihtgZN04iDTR3ZoX0b5+wudtD05732QxSFnNJ7w5OcjW3Q9st70hoL2uZvIVfqEti0q09k4VPYs4ZTHS/o79oFOK/vZ0Jgy4LOGH+pxcvZKO9wx+Sl47v0YtctwEfePcH6oXQNlu7jJa4k/1sc4YWW4va5tvW3fDry0ssR94Vhosy6/3S7NZtw34/jG7MZlDQnd2I68X3v/FNrg+42/qeF8ZT+H7PZluxgldZh2Vco2408Sy9gPsS1ZXa7Ogc/MPz79UD+o1x/bKeNVLlPaEOdtxMvbGezQeS1Hgp/E55GfonMiT192ZstCQtfUk8Q6Hx9DO6M29HPheE4jfW7z2ba8ab6MU8YhqiObE9RtifIZP+Z+DWliO1N/p7+jcUTHLvFZnn4fO2Xags3mOutEdttu7ceheAQfyHrT7/vv1j280PXbl63QlWK13IhlhO7z/fXey9vGvihwvYNNx9cT9EKgE3Gpg+kmteX2pkETv3097pgGx61sDtet66t2ysIAuLd9bmKYdKQx5Ri/+C0e8k6o6Bxi4BjbDtOJU3tcDKMB2/lU+sj6N+58Id1gu4S9Lm2wW7TL+z6NYfp7j7r7i4vc+hK2/OTlRoNdZnee3rWn/mnzxBOxYfu1f7S/9erpwxd2BVXblpYT2ev9F8oPfg7Hgq0l35fSJccML/GNJt+XM58V6jDc9fklk7pc81vvbNDt1m/z1Pn7C4TMJ/tIL45TcRnamdhf8JNJK2yPfV2Ou/RtFoekT8m0+9lVqFvY6QSe7JuRLUM+i8qq+ykq0/lvqGydLmLFXejr9US+KZTv+S/YHXxcYC6aZOY+zduXp4lscz7IPnXd6URFtje3Ldjt/FXzU543jn9+Pirb25qn023TaX0/9mml7a3vukw3JtTsr7Qv6SvOFh/rAaFr7PZ1OxtEDGT5mhs3XnSdWlroura4609oU+/vlt3Na5eNhWy7LNuuCgVfuPpl28fx3Iq5nCOk6Wz/iWway1Q1XuU+KRnP+rEsa6h+x4ZeudXXH/ffRvw1ytbvfWli51jPbctsicag1F8jfhfGPB3DvJ59VlFLbdLc9Dfavc/6dKLvpPzIOETnKnZHaXw9qR9yv8p8oU6dLrY594sdo8y1UttU6HuH6R8FmxMO63b3fs5si9smfdD6rl9KdX3/7Hc0ttLqc4cXusmK7qmEbnfAFV0DlpmU2mDFg1x8LIcwBbzx20ATBz6UF9djA5sfC6A16ql2vuE8xh4/QA6n13YG/7n0ckIivouBY2w7SvbovHYrjCjbt9n6zE6g5Xdn2x6fwl4ZD1u2GHx83emx6fWHNvb2RgNOXm7gqHSxyNPb9rR8YfPEfaGV3p7TdtjnsL80z9zpi65uixQ0npkpFx/j61Lch2yzsZHtafusXUccH532S/Xu5y+NoDdbV3W8XD/KOEpsjWKbnPNstY47W3XM5PhSimF8LPKBriuxRbdT+myYG2enrSeKe+SH/HxkS5TWlSk+h873fovKdL4cmde11ZThblq4Mmqfxn8x75EPs7qlHyyjkc+MWHLlybTWF3n78jSuHe3PoXyOsRCDqF0JN3FdQ+0aKNv7Ok+n68l9EGyM7SgdD7bFfTpJW2pf4VjkkxFCt923Qkx0uZKLYwjd4DvrI2dr3MbET+7Ggxv7dOwKfqqVvc+KXigjt2HoXL0N1ueurUPlxOdr8SqVGR/LGG76LGmvTvvpG6XfJfLw85/q6Ys36g89zvTXV93WaOtwVHaw2bUls2VJoSs5cX05Oebsij9zu+Pz1kc2zva9MLWYVlnIxurE735cKh0fsM+V3cdO/gvL3P9i3HP5mnWX7BlzrGBzWp/7ndldyDvZxpOu6NqXS4XnaJde0e1U+ZnfPmCHekZXB07cyTaQyUmNOe/ufrlBO77olDpY8ZgZYORENFxkdfrBul2a1kBg6pg6Oe1taJVfgNfYLfKYgdXfWSt30urgkpSflm19FHxo6hJ1l9OL+CXlF+Pk0rhOLX8LNobq1mWbNA1BV6s/zmcHkdEruglnpizBeK3O+Lits3ZxiNOGQVT7/7tv9Z3lflXz0y/VQyS+bFoTp4ZftM31ugVTLjaDn3Ff8yt2zoY01oVJqmxzzJkuW79wLaxg6zvrbqJhV3cb7THxmsho325rz0v1nWuPPC6YtSsmoa68HfqueDjfjkOIu/SN+x4x3I9LYcKV8NWPw6N9lsWrbEuZM8tCna+kLGNb8IlrX/Ez6XtuhcrXldqdlG18Vh3Phnxm7Y78PtgvQluNr0Ts4/blfS5iY4DhdrsGyvZtyNMZG3u2pBCMbQ9tzI9bFmzefpxN+lCoI2VA5nXXb9nPc3sjn5nYh2tZbpu7afky3DTrfTEkdIf6ta9rIG42XYm7ut0xf71Pq1wlZfc3dnx/8bGPY2jq2PuaFsqI4hDVkdoT8nifRemT86Z/5/HK+lbS70fHq1S3juGnb9RT/26Ad1+8VA9fhF1U7XjY9sq+Y2xJ+kBcRtLmkk3ymGGswEvWb+P+NOTvzKeyTv1d+rhmQ2uXZCPPkG36fNtnPWef6psTsT9T/5ty/DXB+miZ/pGyUOoLA3ZX+3ncxrb/TvCMrn7ZlPsLIlcbPSB09fO6Iq/9Hr98Sq4G58/o6jqsuHblxPVb1b/P8rZxroFfbo3JO6DtQC5Nft5Pkt0yvYdwIJh9x5ZbD1JgB+tOtwUlA5KzLS23DVa4SEvbwqR0oF39xcnlNULnkELX+dl8ppONZCtVIRaxT+VEZKBdGSsDdRc7uR2Ygm/CC6aaMUlYeTDPkLn60wGpj59gQbZZs6AHy3RALddvy3b2us/RPPU+c3WZQdr7pVx2Km5cne7T153Fo7RVqR5T6RMt5sybwJ3PdNkRO/EkNc4bi0G3DdPn72Pn7TYX4JgD3Tbno/aKR709Ufz6On2Z4qIf256OZzIm7q26jrPWFr8xdsk22xVv7yNtn2S8X5EILOjyZX47Hvv2ZfGS9sg2uXE83d46UHY05qQ+k3Xl3y3zfb1mAirGnIzh4GsXzyi/7zt9PYM+0+nitsUc5va6evVnzIqw25QZ+0Hb6cs2duVtkWXX26XtbZSd+Uz7Nk4fsaRjF/XlVputrzxX3ne2Lak/7Jgk2ilt69/a7n0y5DM/GReMpvHu7Qll2rYMCV0/JhmOta90O4Pd7XYV+o8bJ924ItudXpclo3qcK1y73NhuPtOyfQyCX0J8+lj29ad+kbzl3+N+4WyIy7Btj4+1+EnP2TpK+WOfJ/xG87p8HM7bIuvt2+X82PvG+2xEPHxaNwa4sly8k5iU2teyMW574DDtt/PKFf0+9YETnn7cGMNCOh4Ku71fZBzS73EdadusT/IyY1+JNvk643I1xzJ+Jg6T+kfe71Obddk1u8O50G/Hj8PCdxN26x5267J3tDDqlMe0Q6a8efmUNlP36H33rYGTc2fSB+H5PHgeITRO3mf0xXe0AIHvk8eLvn0GfVtPalNRNPyM7ubZ6cVbNsE/ObPleG0+Hif3+/quF0YwZjcU8kWLSews2D9qdk+yM+Nm/23Lut5tC92uU/qh5d3N4xlckNbX0Q4DJu3GjzBwWgbmrkIcKX4IXa5T2cTmSOyttF6zCl6YDA+v6G7Vr2HV6fxE7tB21a3GhHbtff03QjS/gaXLmSckF+4fDbv39kFhTJ6q5zYvdLtu2h2AQwSFMhjgYAAGTsdAuKjFW37PNCYIXYRuYXJzuv5zpv3Eb7MsbVu0Nl+u0D3PmPlt+exYYYxrjXH9Smtxu3Gfb57QXah/jLB79jiu37v04k49t/xXOTdD6C7ksIqhs51EuQwwMAADMAADMAADG2cAocv8lDkzDMCAZQChu/ELHqAz2MEADMAADMDA5TCA0L2cWNOviTUMtBlA6CJ0ubsPAzAAAzAAAzCwEQYQuu2JL8IA/8DA5TCA0N3IhY1OezmdllgTaxiAARiAgRoDCF3YqLHBcdi4NAYQughd7uLDAAzAAAzAAAxshAGELmLm0sQM7YX5GgMI3Y1c2GoB5jidHwZgAAZgAAYuhwGE7uXEmn5NrGGgzQBCF6HLXXwYgAEYgAEYgIGNMIDQbU98EQb4BwYuhwGE7kYubHTay+m0xJpYwwAMwAAM1BhA6MJGjQ2Ow8alMYDQRehyFx8GYAAGYAAGYGAjDCB0ETOXJmZoL8zXGEDobuTCVgswx+n8MAADMAADMHA5DCB0LyfW9GtiDQNtBhC6CF3u4sMADMAADMAADGyEAYRue+KLMMA/MHA5DCB0N3Jho9NeTqcl1sQaBmAABmCgxgBCFzZqbHAcNi6NAYQuQpe7+DAAAzAAAzAAAxthAKGLmLk0MUN7Yb7GAEJ3Ixe2WoA5TueHARiAARiAgcthAKF7ObGmXxNrGGgzgNBF6HIXHwZgAAZgAAZgYCMMIHTbE1+EAf6BgcthAKG7kQsbnfZyOi2xJtYwAAMwAAM1BhC6sFFjg+OwcWkMIHQRutzFhwEYgAEYgAEY2AgDCF3EzKWJGdoL8zUGELobubDVAsxxOj8MwAAMwAAMXA4DCN3LiTX9mljDQJsBhC5Cl7v4MAADMAADMAADG2EAodue+CIM8A8MXA4DCN2NXNjotJfTaYk1sYYBGIABGKgxgNCFjRobHIeNS2MAoYvQ5S4+DMAADMAADMDARhhA6CJmLk3M0F6YrzGA0N3Iha0WYI7T+WEABmAABmDgchhA6F5OrOnXxBoG2gwgdBG63MWHARiAARiAARjYCAMI3fbEF2GAf2DgchhA6G7kwkanvZxOS6yJNQzAAAzAQI0BhC5s1NjgOGxcGgMIXYQud/FhAAZgAAZgAAY2wgBCFzFzaWKG9sJ8jYGTC93n+2u12+3U7dMhg/Sobnc7U+5ud63u3pfLfrzRaerna06be9zW29v34k49ZxfXn9TD1ZX67ts/Dz/x+P2N+u7qSr3+4qdJZf/x7Uv1+upL9S6zuezjyFc/f6leX71UT7/HaU2ZE+2Jym/YNMvubsF4NGwe27Zjp7O+vFKvZ3C0qM0VzsbV+ad6+nR6/2jXYTl6/ekb9ceUuDfaFY0pN4+T+nbb9rjPkhZ/wMD5MoDQPd/Y0G+IDQwcl4GzFrp68nZ9/zxj0qYFb13ITha67+/U9e5WPU6ZrHadGm7XgsKqJXTNubaInSUYKxN1hO5xO/2hBtnJcRvB2SwbK5yNK/NUQtfW+/Bzg4UR7TI3DhG6M64ZDf9PHO/HcUe9+OlwDCB0D+dLuMSXMLBuBk4udFsADQvCIee3hW6r7ua5Iwnd5qR3iUnXCAFixM2sFalcSE8WTHv4YJbd/Yru0eOxR/uavC5UzuS4jeBsVnuMIMw5G1emFZyL7KZoxmGs0G23C6E7dE3g/Lh+gJ/W7CeELvyumV9sh99DMjBT6D6ruxdui/BO7eRKwtNtsiW5T+u36ta3F7vtzHpLc/Qny29OGh0kFaFrhKoru7Qym7TLr95Km11+/VlfNS4Fa46AN+JCbxk1f2LSa8RDvN353Rc6XUhjf9u88US+31Lpy3Xl59uMS+2Ze8wJJmmfF5Ul0ZIdi+2P2+ZYWOjT2OL8Fftf+6UaL8PvVLttPu8jUVY4Fpcdb5fV5+LYat/v6zcXtzz+Sd1+W3py3PMW21L3WRCDgZU4b27LIeOe2+/8nfkiEfNRm7w/rG2hLYEj3b/3jYduO0L3kPGmrGX7E/5dyr8IXdhaii3Kha21MTBL6Jqtv158WnEotxpbwWqFpPnuRa4EpSJGR23xleWUvtfLNoGqrMwOThYr+cYGf7LQTQSemTzL1VVzvp/4J2mlbVVRk0zOZZ4lvzsR4Cf2ke1WXDhBoe0wwsCLhXQFLk+/nO26robQitrRi14fr3l2xz7oVBfVlZZtf4fnsnO7q0w0bihl4q5P++6LcHOlK62GtziL2lH2mRSBmR8a9s7joOxTx2Xmi0obs3TeXlu+K2+qrYNjl6+vNF5ybKrfyQc758QAQhcez4lHbIHHUzIwQ+hqEZmshupV3ETMWlF313hWti5GJwtCP5mrl22cXhGsUqAXg1PJp9Ma8Z+uRCcrvlPbpSf18UQ4Fyx2Iv3GvFAnThs6WlXUVCbnRR94H4dyp6bLJ/+xWI3PJ23WNnvxaG2J08+3r94ua6cX6IlPmvGaa3cSqyimiVg09kfpEx/2Nw9q7ai1f6yfI9u0jyJb4vg0fdalgr0X+En8a/bOOq59GtUTC9PMF5U2Zuk8M3F5U21F6MY8TfUj+fDjmhlA6MLvmvnFdvg9JAPTha4Re3L7bv89Ebpdp8Vm66VSdTE6VRAGB9XLNmlGCla5Sj2UL9RdB3Vau/pJvt/u6bY5piuKBTHgJ9PWpkx4uPOVyfmYNs1Jk0/+k0m/tEsLDr+a61YynS/Ep0zj2rfEp7HN1StXMgfiZcSoyyc+R9stfaSFq6g7E2WpuFxY6BbaFoloGc8oJgM+64Vu7QbOHAYH82Y+lf7vVxRTi1IAACAASURBVJ5l7CptzFl340Rc3qA9kd9cGWxdnuo38gWG8MX6fYHQXX8M6YfEEAYOw8BMoZus6GaTL7ud+fbJit3yvxCqi9FpglA6pl62AaghdANg1vZI7DbyaZuj54rN6m78DO+0do2bCFsR+5NZ0Y3EhYjN+QvdVIiFtmcrfpkAkfE/7ncjYrzgDDYHloQ9B7DbiyZdlhRZ+re3o68zOpb6124Hr/FStN89fyzr1Yz1wl+K0Yy3igjsBoXsgE8F4zWbJx/P4hXb4mPhbKi0MUvn0g+2XbDj8+THWNHNfTI55g0/UyZ+PmcGELrwec58Yht8HpOB6UK361/Y5J/RzQNnJl1uhde8nKokjOtiNMo/adJRL9s4uSFYQxDyZ4/dKnVZuOd+CGXZc9OErnuxkVi5S30ixYyZaKervbb+THj4crQASrdHD7fHt69/AVn0UjJfdr2cdPJvfkfbRN0W1ZfZNmX3DOi+Is3brO0zHOyybfdRmhHtiJ+THYqX9fUsu83zr9onaZzTsq0oC3XFcTb+nvDyozRuxl8pd4bJ9MVKcf3Sz9aWGuOxuJT5xn/vx63kcYLB/Em7dB/Szwo7QR8za9uX3Wyo3Rzo2TJlpjcOxnAn0iB06+PMYIyFH0mLH9fMAEIXftfML7bD7yEZmCF0dSDcpDGsYrqVTzPhiiaTLm0vdp0oip5njVc+s/IbojpyykDZ1rZgs12BdSLc2SnOl+qN6kjtbkM6VejqNjpRYt+6fBWeG+wFhZt467R2Mu5EkJt8i22yJXHTl2PLd3nb7Qm+t6vf6XPa4Xy5nGqboomntT+INVlW3jbph6H6A2eOAVl243vkK+3X3F/tts21u49xelPA+C0pOxVQ0vYvfjKslH2btt+KTc+f20ovynci0KT59I16Kr3RWdaf+K3us0MI3X57726n9r1RJe367lu7ayJwJv3yUj39/EZ951fV5TnR/4TPLKNxzMbFI44PQjf2x3DfJz0+2h4DCN3txZR+SkxhYBoDM4XutEovPVhzhO55+66/SVC6MRCJ1incaBGQC8lD+UPHZF+Bfqi655SjReUUQTSnztXnNTep9rs5lbf5MKI7L3dK3wh5ELrBF4f2LeXh27UwgNCF1bWwip2wujQDCN3ZAmx/SLcodP0q+SIiN/2XQvv7vNqR3Mq822J/Ah6qtg3ZYlZFa9t8D+ijITtWc77fcRDtNJnqJ4TuZG5Xw8tUNsgHG6dlAKF7Wv/DP/6HgfNhYH1C1z1PGW15DtuM3dbpc4bMrB46+9cosI44UfXbYIvbc8+nIx2VN7/td7kV7qO254g8Ha5d5yV0ozFloZtNh/PdhfbbVXJOrNbIPUIXbtfILTbD7RIMrE/oMllQS4BAmQwwMAADMAADMLB+BhC6648h/ZAYwsBhGEDoIpwRzjAAAzAAAzAAAxthAKF7mAkyQgM/wsD6GUDobuTCRmdcf2ckhsQQBmAABmBgLgMIXRiayxD5YWgrDCB0EbrcxYcBGIABGIABGNgIAwhdRMpWRArtgOW5DCB0N3JhmwsC+RlMYAAGYAAGYGD9DCB01x9D+iExhIHDMIDQRehyFx8GYAAGYAAGYGAjDCB0DzNBRmjgRxhYPwMI3Y1c2OiM6++MxJAYwgAMwAAMzGUAoQtDcxkiPwxthQGELkKXu/gwAAMwAAMwAAMbYQChi0jZikihHbA8lwGE7kYubHNBID+DCQzAAAzAAAysnwGE7vpjSD8khjBwGAYQughd7uLDAAzAAAzAAAxshAGE7mEmyAgN/AgD62cAobuRCxudcf2dkRgSQxiAARiAgbkMIHRhaC5D5IehrTCA0EXochcfBmAABmAABmBgIwwgdBEpWxEptAOW5zKA0N3IhW0uCORnMIEBGIABGICB9TOA0F1/DOmHxBAGDsMAQhehy118GIABGIABGICBjTCA0D3MBBmhgR9hYP0MIHQ3cmGjM66/MxJDYggDMAADMDCXAYQuDM1liPwwtBUGELoIXe7iwwAMwAAMwAAMbIQBhC4iZSsihXbA8lwGELobubDNBYH8DCYwAAMwAAMwsH4GELrrjyH9kBjCwGEYQOgidLmLDwMwAAMwAAMwsBEGELqHmSAjNPAjDKyfAYTuRi5sdMb1d0ZiSAxhAAZgAAbmMoDQhaG5DJEfhrbCAEIXoctdfBiAARiAARiAgY0wgNBFpGxFpNAOWJ7LAEJ3Ixe2uSCQn8EEBmAABmAABtbPAEJ3/TGkHxJDGDgMAwhdhC538WEABmAABmAABjbCAEL3MBNkhAZ+hIH1M4DQ3ciFjc64/s5IDIkhDMAADMDAXAYQujA0lyHyw9BWGEDoInS5iw8DMAADMAADMLARBhC6iJStiBTaActzGUDobuTCNhcE8jOYwAAMwAAMwMD6GUDorj+G9ENiCAOHYWBBofuX+nH3m3r7vm3ox/vf1Pe7X9WPT3E6d1yf+/7mrxl3mp/V3Yuduk3KPx1Aj+p2d6seEdgzYhqzcrpYYge+hwEYgAEYOC8GELrnFQ/6B/GAgdMxcLZC10FhBO8Moft4s1O7m0chqv6jbndK7Qp/xxLDz/fXavfiTj0jdkVcTtcJHGt8EgMYgAEYgIG1M4DQheG1M4z9MHwoBk4udIcaMkvoPt2qXWP19Pn+H7V78d+TCE4twK/vnxF6iH0YgAEYgAEYgIGDMYDQRSQMza05DyOXwsBkofvLza/q4f7vZGD+W7194bYh91uXnz6oB739WP+9+KA++ouZPt8fb2xxrgtdmb9ky/CW5ZrQfbxR6vr+38qc71d+/WrvUyqO9QrxP+pObNGW+Xa7f8rblN/fqeuaCDfnEMKX0glpJxccGIABGICBQzGA0IWlQ7FEObC0dgYmC92yAE2Frhayz+oXI26tME2fxe26XhALoSid2qonCO1C2S0h2YvtltA1W5tv/mOEfJRuSOjq80LcRnm9yNcdpyHEEbrJDRQGGtkn+A4PMAADMAADNQYQurBRY4PjsHFpDEwWut3Ts39JVFjdlaJVfrdghXQStDydDEJR6L7/oB6i1eFOZen0tuWB52BrIlSv6EZbmt//V1078TogdHVev/prhG2+4uvax/ZlyQHfHRd8wgIMwAAMwMBUBhC6sDOVHfLBztYYmC50vdj8S/1486x+NC+M0qJVruDGb10+mNDVIttve3bbn+O3M4954VNL6Oqty8VgN4Xuv9Xdi9KLruKtza5cY2P0oiw6mPMNn7AAAzAAAzAAA/szgNDd32dwhs9gYJsMTBe6Zsvxs/rl6dk8q/vLzbP6xYtf7ax8pfagQjdZ0c0AnbmiO0foxiu6dXBY0a37JotntO2bfPgHBmAABmAABkoMIHThosQFx+DiEhmYLXTf3j+b/5Wrtw7rld3wP28XFLpGRJdeQCUgnvmMblPoum3MnVvBDSu2ZpXYnxf2ZEKNZ3QvscPR5laf4Bx8wAAMwMBcBhC6MDSXIfLD0FYYmCF07Yun/JuU9WruTorPAaFb3H7stjr3Zafbk6P/p6vLF9uWd+5tzw5OKyRb/8Jn0tblrlPmGV7/Nub8GVwrdsUW5tK/MGoJcV5GVd42nt0scLHmcysDEu2AZRiAARiYxwBCd57/4A//wcB2GJghdFfghIH/o3tKkNm2vAJ+ENbccIABGIABGFgZAwhd5hennN9SN/ydEwPbFrpm9XWndmf2wqcxL8o6J0iwhUELBmAABmAABtbBAEJ3HXGiPxEnGFiegc0L3eb/qz3JXdpHdbu7VY8nqXt5oOi0+BgGYAAGYAAGTscAQvd0vod7fA8D58XABQjd83I4HYB4wAAMwAAMwAAMLMUAQhe2lmKLcmFrbQwgdFlZ5fkrGIABGIABGICBjTCA0EWMrE2MYC/MLsUAQncjF7alAKFcBh8YgAEYgAEYWA8DCN31xIp+RaxgYFkGELoIXe7iwwAMwAAMwAAMbIQBhO6yE2eECf6FgfUwgNDdyIWNTreeTkesiBUMwAAMwMBSDCB0YWsptigXttbGAEIXoctdfBiAARiAARiAgY0wgNBFjKxNjGAvzC7FAEJ3oQvb481O7XbX6u79uuD98PCZevXyE/X1uzO1++lW7V7cqWcZt/d36jo9Js/znQksDMAADMDAhTCA0D3T+cuF8LeUYKFcuJ7CAEJ3oYHnVEJX13t9/zx5QnMyofvuc/Xq9hv1oRUPLWgrNw+Mv28eJ7d7SuchD4MuDMAADMDAuTGA0IXJc2MSe2DyVAwgdFvCaoXn5grdU4HYDQrdZ3X3oiXi7fnbJwaTk8Vwhf0FX9FfYAAGtsYAQhemt8Y07YHpqQysVOg+qttkZS8TeHqL605vH7Z/6Srn8/21P7fb3apHMUl3Zck0owWUWXV09cbldp0WY3o7s7a/lEYfv1WPsgyxJdfYI1ctTTpbh7TVtdl8yvSijTkwb9XXLz8x25ZfvfxM/fAx7lR6pfdfDx/Uu69cGrm9Wef9XL37+I36lytDrs5mIlan7+uQeVxe8/m5eiftLW1Zluf19zFp0jz8ZhUcBmAABmBgQwwgdOP5Sz7f4Tw+gYFLYWCjQjcXwlFAjQgOItSIRCEozTZYLUR7kZiej8qqXRyFCA3p7apjeHY3XaV0AtjZFp9vCV1XhxPp7vf+n0KEira5Lc1a7OoyzW8vZp1IduL0g/rh9hMjjE39LaHr6sjSxIPQuHYNxN3VxSeTWhiAARiAgY0ygNCN5w/7z4PIj89gYCsMbFjo1re5atEUr9DGAskIXSF8u6JoHegExTxWuMq6Y/Ea26Ehk+fldwNgoY6qIDRp3Sqy+MxWfBtC96u3YWJkVmKdsM3zGCHs0mciNk/f3rqc+63cAcemG4jdRic/ZZ/hC/wCAzAAA1tiAKELz1vimbbA8xwGNip0O2XFqRN0boVUw2LFULS912wjDm9IrorFfQRQQYS6uvcWur3oniV0R9teEKFuBdcJV13WGKHrVnxnC1270i39VoP+ILEb7SsGn1ocOA4bMAADMHAaBhC6p/E7vON3GDg/BrYrdIVYMQLRP4c7vOp3ELF0SKErt1DLFdhCHVXbWdENq9GCDQal8xuUiAkxgQEYgIHpDCB0p/sO7vAdDGyLgRUL3bD92ArZ+lZl85IiL3T77cDidwp1VSzuI5AKInTvFd1enLqVTNNOv6XarnKmL9KK00yB9QAruv0Lpvz/4tUruvplVcZ/9vnd7IVXJk/+EiwXm3Exybd+u/x8TmGBPHADAzAAA2tjAKELs2tjFnthdikGVip0+zfsujcX3zyqSAglb1wOL38KIDlx7LcwewHZxWXtI27dM7XOLv/ptk7nq8nGDr9K68Sr23IdxLwFQG67vlZ3T/r/yrqyXdtkmvBCrUGAjBgNb1R+Zd58HIRn9Myt9km2dTnO60Vu77/4bc0NMe3fvOyEcd+u5AVixfbw1mVWrffsr0WOKAOOYAAGVswAQtfNh/jkGgcDl87AeoXuii9CdejWuiJZFq71dk4ZeKyAT/9NVKgjv4kQzk2pjzz4DwZgAAZgYH0MIHTXFzP6GTGDgWUYQOielWBG6DY7utnKHV4aJtPqFX3376Dkcb4vM3DgV/wKAzAAA+fJAEL3PONCfyEuMHB8BhC6ewjdbLuz35qstxqXBdh+UCN0B/1V2p6sBbDYej5Yxh4xp6zjD0r4HJ/DAAzAwHQGELrTfQd3+A4GtsUAQhfRw7NYMAADMAADMAADG2EAobutiTrCi3jCwHQGELobubDRCaZ3AnyH72AABmAABrbCAEIXlrfCMu2A5bkMIHQRutzFhwEYgAEYgAEY2AgDCF3EwVxxQH4Y2goDCN2NXNi2AiTtYHCFARiAARiAgekMIHSn+w7u8B0MbIsBhC5Cl7v4MAADMAADMAADG2EAobutiTrCi3jCwHQGELobubDRCaZ3AnyH72AABmAABrbCAEIXlrfCMu2A5bkMrFvovv+gHna/qu9v/qrcif5bvX3xq/pep2mmWxdI7t8c3T6txW79b5P0v2A61L9hWqjdC/3roscbpXa7f9Td+4Xsnnqzxvxf4sP//2HzP437eF/fPxf75voYPrPYTY05+Yo8zr2Qkp/+cU4MIHTh8Zx4xBZ4PCUDmxa6H+9/U9+/+KA+bmxydzKRUBKCe/n2jP9PsBF95f+FbITbzePkCfIqhe7sWHdK++3wQvdZ3b3YqfXc5OECd8oLHHXD3yUygNCF+0vknjbDfYmBdQvdAZH1y82v6uH+78kCpeSwiz42W/ycq9C14qkmyrruAsXV7Fi3he70fnSBsRgY56b7kosivoOBLTKA0IXrLXJNm+B6CgOrFbpaxLotyWUxa7ctl8+1YMkn0mYFVa7oaRHgt+Lmq1ZuxdWmuVWPYqLqVrlkmvGrU60twNpuvSIp08i69fFb9ei2q2r7X9ypZ2dbJmyEKJV5RLt3ujyXf9SnKDNJL7e77nZhZdX5K4Y7jZFscxIP1y7ZBhlLbYdLk9gU1TkmTZr//X/V9U5vW7Zbl2Nf/Ufd7v5RjzLNi/+GeKRlFX5LhqJY9G2Vwt36N8RL+lum66SfZsW6JnRlrEKcpa/jdoXVW2nzcP8rly3r4XtrHOQcfMDAWhlA6MLuWtnFbtg9NAOrFbrOEfmq7V/qR/dMbvT5m3o76hnJVER1yky8vTiqizVjkxZEQgCavEJQ+sl6X1563rWr/VmywdodRKL9HUSMExhO7CTnMyFXqCNLs2+HLJTZ9f4VPrJCx9oZ+97VJ2OUtKOz7fQ3D0w89LPBfbuNkItFkI5J8JOrI/0s296OU1+GEbP/JDcFtNCVAtj+9nYXhG1U1wBnRry7GwZJWllOte2zY10Tus6vFX+a+DhGXVr5KWMvj4fvlp84xrLNfA++whf4Aga2xwBCd3sxpZ8SUxiYxsAGha5zxFIrulZI1YSRFg6xWIkn9EboClFnV9BaE3vXHvkZl2nhzwVALBLzPNH5TNjk6UetfDYFWqHMVJia/KIt2q7+pkAQZaIcLYykP51wdjcmjMiTokeUndbVtD3NJ+Mx8L0qdOMXVOlnea/v/z1qq/0QZ5oJG9+75jOtwadJGzIekvNNX9m01bJNXhFDWVa/ohz3IVn3jDjIevg+ijMurJI9vsPDOhhA6K4jTvQn4gQDyzOA0M0mvPlEOhKEOn0/Gc+3Jtu8clul/R6EVnvyPzbgJZEwZHeex7TLicRM2OTplxO6wT+204u2eCH7qG5vbtWtEbDatv7mgBGy7o3O4lMKXdfGLNba37qs9OZEOQ6TY3dwoTvMmfSju1FQGlCrbcp4KPukVKY7Vi3bxKHAl4uPjGkWO8GGS88nohUGYAAGPAMI3f2vV+66xSe+g4FtMYDQzS6O+UQ6E7oijznnRNeIlxa1J/9j4SqJhCG78zxRuzJhk6dfTuimQlPX7Y7p77fq8enWbC9+vOmfM3YCKLM78eHQ+RExs4Ne7t/Rg+FCQre+6ml9YFl7NCu6rR0IxXODfkv8LPqE80ub9QJflTKiZ8lHx2vYPmcnn/gKBmBgSwwgdOF5SzzTFniewwBCN5tcW0HjJ/96wq9fyuNWCNP05nzYehwL3xzO9uQ/T18Obkkk5EIsErJm5VKsnKZbRKN22LLC8769XSaPKKPoi4avUhv6/NonUswYu52QNXlu1d39rfk/tPqcXtkN8bCi2MerZJMvq+zfcTEp+bxcXhazgwvdfluyv8FSsEPGsxG3atsbebL2pT4Xca3GpcJCWnbMgm2n4aXWH92Wbfd8csW2tB5+FxjCd36FDD7gY00MIHThdU28Yiu8LsnASoVu+YVT8RuWpz6jm2xNfnGnHu+vg7Bywte/kTYXfmZy7s/HIq4qLMZMKrO69VZdV/8YoSu29voV09DBjIDo7b59Kgu7uG1B4BtInX2pCHHHpU+83bZ+Wbd/cZTxSS+6nVjtBXosoKzYlVvG/WqnrtvlrfnY2Je0JU07ppwkz/P9P/0bl92bl9OXT01/Rlf7O46F4Kz3t/dBZ18MFVjJ/aV9F/s0LX/AP77tA2X3tslYBbvSOjWvpXrjOsp2u34R+F5yIKVs/AwDMHAuDCB0YfFcWMQOWDw1AysVuoCzPzhaHDD5L/vNiulUMIW0+U2EcA4W8QUMwAAMwMD5MIDQPZ9Y0C+IBQyclgGErl+JOm0glu8ICN2mjxtbdYe2yjbLvRi+tt5/aB+cwwAMrIMBhO464kR/Ik4wsDwDCN1zESL9ltx4S2fYalxfbRwLCUJ3cEApbU/WcRna+nwuDC1uR7xlOGM13bK+uD1j2SfdIPvEiudxYWAzDCB0GfMZ82EABiwDCF0u7pu5uNOpGdhhAAZgAAYunQGELn3g0vsA7acPOAYQughdhC4MwAAMwAAMwMBGGEDoMsl3k3w+YeHSGUDobuTCdukg034GcxiAARiAARjoFEKXfkA/gAEYsAwgdBG63MWHARiAARiAARjYCAMIXUQOIgcGYAChy0V9Ixd1OjMDOgzAAAzAAAxYBhC69AX6AgzAgGWAFV3EHoIfBmAABmAABmBgIwwgdBE5iBwYgAGE7gkv6m/V1y8/Ua9uv1Eflrqwlv5VjqnrJ/VwdaW++/bPE7afAYgB6PwY+OPbl+r11ZX9++Kn8+sfP3+pXl+9VE+/p77T//bpVj0uNZZQ7vmxQEyISYMBhG46RvKbOQcMXCoDrOg2LhbLQTFD6L77fFggm//Je63u3pc6dkno/qmePu0n+G6if/Wlenck37z7Ym7d1v6Hn0vtnXHs9zfqO+8Pa+OxbhBEosvYUBI4M9o2ENssJuco/AbaMLX/Gt9Paa8Wop++UX8sZFdXFbqder6/Vjv+3zPiZyn2KHdVbCF0l7s2Tr2ukI+YwMBpGEDoru0CPih0n9Xdi526vn+uXJit0I1FoRWKUsRZoXMcsWvqEsIi/T08OCwpdIXANMJX/F6QHSO2hGhKfw/7ZPqAcsy6lmzH1LLPW+jW++TjTavfT+dhqh/Jh89h4DQMIHRP43d4x+8wcH4MIHT3FStaaH71Vn14+Ey90tuPX36i/vXwIYhKJ0Q/fqP+1Z/X6R38Mp88bs/rld7P1TuZ121vlsdcuebz83jltbpluQVfLnS7Lj8Wr/Llgs8IBLECGovpev2ZsM1Wxqw499tKhQCMbQorw1K0a9/adHWR4OITfWbCVgrq3D8ln8U+GV9/JjaNLS5/6WZFesza530mbiREbcz4L7Urjd1Q2XG80lhU6zcrlq6NfZ3psXSVXbaryE3OabX+3hdVoWtsCYx5vlObfB+QbWn5zJ7T5QWe97e7Mzs52MI8FF/Op/2Z31tjAqEL01tjmvbA9FQGELrZRH8AJi1ktcB04tUI0M/UDx/7fO68Fqy67PR8X58RvK4Mb0O/pdnl7ezvr98Jm5yQ9nnEua5T01Z1yuJGCtBUeFkBFyby6e99gJT16Hz6dxBHqW29YJACpxflXngUfGMFRLB3lH2p0I3EZqdSn3Rp+kSkZekLdjq70rTmt2hz6jO7rTW0Lz6f+jBmxtXpPk1djee422WndaUCvFV3njauKz1vf3tWFhW6P6kH4f/U38Z3Wf2hrXE7Uh/1TAufx+lDOS5G5U+7m+P2aWx60pX9iF/wy7oZQOiuO370P+IHA4djAKHbEBtF0DKh+UH9cPuJ8mLUCF0hfLvkfF9fXejKvJ1691Vlxbho99SJbjrxtoAFcZUKDH3e5rHisnR+PKRmUu9Xwa7i5xwTsWhikgjO2Jbx9RbjK/1q6gkreHp1NBbTut1h5S34y9qg29VK36rfiU2/Ips+M534QNflBV+n7Qqi19TTEGFFO2TbxQp6N1S2zhel728ISJEofZx8j31Y8G9SthGc7ljWxjh/sZ1J/TpNbEONp0LZWf0u71A8eqErfVQty5VZ/px2o6tc1lh/kQ7/wcB5MYDQPa940D+IBwycjgGEbmGi2wSyInT99uXsfDm4ywhd/fbVndp/RacsdMOqUmFSL4WuEUVB8DX9V/B3qMf6yoq8XqiVJvyJyFtW6Mp2aT9IQSlXn7UPZdpevEgBb77LNGU2tP+MD5yA0z7TfhCiOm5zIqSkSJX1y/IKcSjHzbWjj8dQ2cbO+OaAEetSxLXqlrHVZYl8RQEq+ZDfTR0lbus+d+0v1uO3v8u2JbHM6u/rGvKZ7Est34w4Z15KdfPoH5VwbeJzOO74CB9thQGELixvhWXaActzGUDojpg8Rk7OhGyyYpudL0O6jNA95IquFHX2e7466VYspwkK59dU6NpVw15EaPFQWp2MjlkxFttX9rurc9SnESixmMlEkBM3Om0kJOfZlAndghjytmgbhCC0W6iTFd19OZfppR/M90bZzh8y/17fg980FzKmuU+SGwJZ3dO49H4VdptjEXOFsrP6ewaHfFaI7Sg+hX0uPSu6B+j3Bb86//KJf9fAAEIXTtfAKTbC6TEYQOjuO6lJhKwRrP6Z2k51yflaECcL3cozv66eaRNdKy7C1lf7W/6rFCNGhZBLRUd63tkz5jMVunHZVmSntoXfdqBIy0jrNecjoTJigJECz3BibZHiy62sfvfpy0iU6fpzcTSizp7H2AduRTcVmFZs6brj/63ax0+K3305F+njdgyVncZrfJt9zIxgfJncOOiUFfBS/Cbx0Pl8jHs7o1XwcbaY9ia+S+NheUr8nvHi6hvymT0fc+Xy7vM59UbXPnWQ1nMq+gjH4OKcGEDowuM58Ygt8HhKBhC6+05WtJBtvfW4KXTt6m+cX7zYyrx8auAZ3a6L3vj8Sops3Rb91uXdvm9edaJAbMtMJvoaUju5d2lS0ZWel4Kk3cnjcnX5adlW0PjnVQu22VVgZ1u8vTjYnpbbtssJK19vsm3ZddxYCMZl2nPBLnnzwOUvfWb5KoLN+E7cgAhl5TFNbw6EtNLmxNdm63Pqt6Gy8zL2E3E2XrirUgAAIABJREFUf9FeIyaDP9M0kqWHn3U5iRit9ve8TfGW67hN3337plh2HDfpt7z8YLs9t5+PZMz677x1mS3bVb4LvJB2s7wgdOG9fH3HL/jl8hhA6O57sW8K2XMAyK7q1P+P7jnYuC0bjLgpiu/l26mFXRBMy9d3nIvEPgJ1K22e345puznm13scJrATP8PAWAYQurAylhXSwcrWGUDobk7odsr+P81rdfeeDrx4B65uVz2C76Otukeob9++MjG9WZU90Y2DxXmZ6JMhu8xLqF7cqeeFyh+qn/Pb6X/Ecv2xROiuP4b0Q2IIA4dhAKG778Tw7Fd0ezD0FmYmvsttTRNbaGdvOd2XQSNw9fbdsdtyDzNYLD3o+m3Hxa3Y62jD0j4ql6/ftr7v4wr4s+xL/IJf1s8AQnf9MaQfEkMYOAwDCN19RQbplxOP+BbfwgAMwAAMwMAsBhC6h5kgIzTwIwysnwGELhfUWRdUBoH1DwLEkBjCAAzAwHYYQOhuJ5b0S2IJA/MYQOgidBG6MAADMAADMAADG2EAoTtvYoywwH8wsB0GELobubDRKbfTKYklsYQBGIABGJjKAEIXdqayQz7Y2RoDCF2ELnfxYQAGYAAGYAAGNsIAQhexsjWxQntgeioDCN2NXNimAkA+Bg8YgAEYgAEY2A4DCN3txJJ+SSxhYB4DCN19he7Ts/r+xQf1cd98B0j/8f63k9VNR5vX0fAf/oMBGIABGDgGAwhdODsGZ9QBZ2tgAKG7rwBF6LK9bV9mSA8zMAADMAADR2IAoYsAWYMAwUY4PQYDCN19LzwIXSYr+zJDepiBARiAARg4EgMIXQTEMQQEdcDZGhhA6O574emF7i96G/HuV/P3cP93uIA7Ifz+g3roz39/81c43/2t3r6w+Uz+6JzuNH+pH10+/SnOp1uXf7mx5fz4RGdbQ2fDRjiFARiAARhYmgGELowtzRjlw9haGEDoThG6UoAaQfubevu+h14LXSNUn9UvuuzkvBGnXrxa0SuF8i83fT5jlxW9TshKoWvKOdGzwmuBGzsZiGEABmAABi6NAYQuzF8a87QX5msMIHSnCN1IYCZi1QhdIXz7FVwrVrVwlUK2U51bAa7YoQWtE8JO6L7VK7mRDQBeA5zjsAEDMAADMHBJDCB04f2SeKet8N5iAKFbEZhVpxWEqRSjTeEqtzPL7clStPoV4bC9ORK6fT53rGrnvu0ivdhezqABVzAAAzAAA+tkAKG7zrjR34gbDByeAYTuvgIvE7p2RddtLx4WusmKrqy/F8K+rK5TUkS7Fd2PhXR0jsN3DnyKT2EABmAABtbGAEIXZtfGLPbC7FIMIHSl0BzzPRW6ZgVWiNf0fFRm/yIq/4xuAnbyPK8Rzbt867L5H76mXrlFOikrqpdzS3UgyoUtGIABGICBc2IAoQuP58QjtsDjKRlA6O4rCI3ADNuKv9/zmdsufeuyELIaBPOSKbet+cUHpZ/HdduU/Ypub7P5neQ/JUzUzWAGAzAAAzAAA6dlAKF7Wv/DP/6HgfNhAKG7r9AlPc+ywgAMwAAMwAAMnCkDCN3zmWQjeIgFDJyWAYTumV6o6Bin7Rj4H//DAAzAAAyskQGELtyukVtshtslGEDoInS5Kw8DMAADMAADMLARBhC6CIYlBANlwtUaGUDobuTCtkb4sJlBEwZgAAZgAAYOywBC97D+hE/8CQPrZQChi9DlLj4MwAAMwAAMwMBGGEDorndSjqAidjBwWAYQuhu5sNExDtsx8Cf+hAEYgAEYWCMDCF24XSO32Ay3SzCA0EXochcfBmAABmAABmBgIwwgdBEMSwgGyoSrNTKA0N3IhW2N8GEzgyYMwAAMwAAMHJYBhO5h/Qmf+BMG1ssAQhehy118GIABGIABGICBjTCA0F3vpBxBRexg4LAMbFTo/qV+3P2qvjd/v6m37w/rNCDEnzAAAzAAAzAAA+fIAEIXLs+RS2yCy1MwsFGh62DSghehewqwqNMxyCcswAAMwAAMHI8BhO7xfA3X+BoGzpsBhO5GtirR0c67oxEf4gMDMAADMHAMBhC6cHYMzqgDztbAwIqFrtye/Kt6uP+78HxRfUX34/1v/dZmu8X5xycJ7N/q7Qu39flX9f3NX1nZz/fXare7Vndsi858swbwsVHyznd4gAEYgIGtMIDQheWtsEw7YHkuAysVulaIBnFrRW8sVjUcFaH7/oN62D2rXyqrub/cSHGb1mWhQ+jS+eZ2PvLDEAzAAAzAwKEZQOjC1KGZojyYWisD6xS6Wqi++KA+CqFqVmizldeW0P1V5cJYg6zzJCL46Vl9n9S31oBjN4MVDMAADMAADGyXAYTudmNLvyW2MLAfA+sUulp4+rcqt7YYV4SuFsiyDClizWqvKNPVI9MIgQ1w+wGHv/AXDMAADMAADCzHAEJ3Od/CLb6FgXUxsF6hO0p4NoSuEKtmq7Irb2BbM4CvC3DiRbxgAAZgAAYuiQGELrxfEu+0Fd5bDKxT6JrtxbUXUMmAjxO6ZtuzE7pd/yKqbBu0LLdTPKMb+6MFGefwFQzAAAzAAAwchwGE7nH8DM/4GQbOn4GVCl3tWC1i4y3G/plbuS3Zpwn/Tzd94/L36TO5Tuz6vLmoRuieP9wMQMQIBmAABmDg0hhA6ML8pTFPe2G+xsCKhS5BrQWV47ABAzAAAzAAA5fJAEL3MuNOfyfuMJAzgNAVz+oCSA4IPsEnMAADMAADMLAeBhC664kV/YpYwcCyDCB0EbqKTrZsJ8O/+BcGYAAGYOBYDCB0Ye1YrFEPrJ07AwhdhC5CFwZgAAZgAAZgYCMMIHQRH+cuPrAPRo/FAEJ3Ixe2YwFDPQxOMAADMAADMHC+DCB0zzc29BtiAwPHZQChi9DlLj4MwAAMwAAMwMBGGEDoHncijXDB3zBwvgwgdDdyYaOTnW8nIzbEBgZgAAZg4FgMIHRh7VisUQ+snTsDCF2ELnfxYQAGYAAGYAAGNsIAQhfxce7iA/tg9FgMIHQ3cmE7FjDUw+AEAzAAAzAAA+fLAEL3fGNDvyE2MHBcBhC6E4Xux/vf1Pe7X9WPT7WA/aV+3P1q0uh0D/d/b+Ju+ePNTu121+rufa3dHD/8IPas7l7s1G2VtTP0+fs7db3bqd3N41lxr/lt+9H6+vr++azsPjxTZ8jMxLEY3xBLGIgZQOjG/oAP/AEDl8sAQnfi5GpI6P5y86v6/uavdU2WjTi5VY8NnyB0jz9YGJ+fmWAcvGicSugOMWzOt27ULCB03/9XXe+U2t38J4wHT/+o3Yv/qudGXxv0MXmDP/EFvoABzwBC9/jXacZrfA4D58kAQneRi+Pf6u2L1mrvecLQDYmERXx1pr44l7Y+3ardrn3zgcFVMDSGYe3TF3cVkbmU0P1HXb/4J9xEQuj6STn8Cn7PZdzBjlXzidClTzGuwgAMWAYQuntf0OWW5N/U2+IWXpumvq250QHNRF1vD5Z/vdDxk/hHdevORxN2O0n3ebNVQJFvt1Nhe2Z83OeXW5Qju1LhpfPfqkeZJrKrU8/310mbxm9r1Sua2lZZRrz9NLY/tMv6WebTbQt5tb/06p7Mn7RNtindiqsF081jZNf4urVtsl4ZD8eHjWew1x3v/Snj69lwaRIWMrHcqNsJQdl2WddAn7Gr/pbf1B9d02dD8dA2x6uxjo3Ul0WGvd11v3Zd65zz7Z6fZkX3H3V3/4+6vv+3nUCnQtet+uqV39Lq781/1PP9P/bcToVyTJv+re5e9PnSvK7NfSyzeLjzfK5a2DCh2bNPbpx3hC48MCbAAAxYBhC6ky94WswmQvf9B/UgnsvVz+bav2f1y6h67CTbT0a1KJATey883GTfihUnhOItrklZ/QTel92LLJfXdIhMLBUGimIaJ5qcSIztsivFzuZOGTsTIdzqkF449WLLCFefP21nqW5nV9oem1f6OPZhUlbvM+9DEx8h2M1vUVfRV86GAbs1L438xgdSfCZps/MRfwN1u3Y5cWzKDvFrxUqe0770vnL1u7Kd7ZHPxsQjtiOrI/GDtEd+b/lHlxn1C2f71M9e6D52/1G3brtyJHT/o253StRpf0eiWApYnXcXVocfb+S2aCt6fV5ns/FLIR7uPJ8IXRjYDAMIXXed5VNe9/gOD5fIAEJ38sW9IHR9WRNXdDNBkQitfrIqJ+Fhoq/TCpGlbdEiwglCndd97+3MJvum/KQM36Z+gCim0XXXBYipR9YdiZvhgUe30bdD2yNtGGqXSVsTLlZYSX9Kn2V2pz6V/jV+SvzQqnvI7rQuU37w1VDszPmUB1fGUN0mPjKeBT+5shqfgc1gt/SvHXClzwr1RD6WaW2ZWR3G5wMMa5ujcoV9nb0REzHRVXYkRLsD4jKii4kXurrsXtAKoWtWap0Adv4U5zv53ZzXQvif/oVw9nv0XH2WvmGbq4/PzYiciD3iepFxRegy5jEOwAAMWAYQupMnAgsI3eKKoZi0tybx5pzc7tx/dwLTiJfCebeypv3QKt/5qZhmQIAkwskIV1mvK7vymYkZmW5Mu2Qa5w9TRkVY9QIxE5M6jy7LlSG/m/JyP5j0pW3m0iZ3PtkaXRTafdsz2wpxMX7uy45WVofqzto17YJRjFtWtvRZOx52e7IU4FaURm0r+KE42DfSabtToVsso4/F4DkhdDv9Xb+USohRI3Tli6oMZ+JlVSKtrUsIXVO22Lbstj6nwnmsraS7SGE0yDBcrIoLhO60axb9AL/BwPYYQOhOvoAvIXTtRD88X5hMuBuT80GRmgmMAsyt8p2fimmkWLHlRiLH5JEiW4h3V27jMyorTTemXSKPLssL1dLzmKK8ktCMjom0dnDM/SAHzajuLG8hHo00Y4RuqFvbJbatNso1eYbOC3+GOnL7i3HLypY+qwhdd2PB3Ag6kNDN7Mjtl20z/pY3JPrvowSxFLqd3lpsn9d1b10urehGxwaFbtjGLG3mezum+Af/bJUBhC5sb5Vt2gXb+zKA0B05ac8du4DQHZp8F0Wmg74XydWV0kTsFNtt0zQn70UbpFix9kiRI7/nfnT21z/b+ce0K5QdCdVM6CZl9QI9+CPxTxav3A+yvXHdSV2leBR9bdtSKqv+dmbLRlj5HKg7a1fwn2zP0Pdi3LKypc9SoZvaaX+7eDjxGdql7YzT1Gw0eYt9xeY/6P//jYSu3hVg38DshK5Z5S08o+vaKVd/bXvEiq4RzvIZ3UqsepZjX1XSlljk2KpW9Grcc/wymEfoXkac6c/EGQaGGUDo7juBe3ruXzDlXjSlP5OXUnUTn9HthZdc0Y3eEtwQPhb2XuyKlad4YttP4sV5P5l2ftBCxJ8Pq2dOVIRzeoXWrczqckNabUskcvpJdjnvMKRRWc7O6LPertxuZ7Oud8hfbjt3WI2O/NkUbaXnOmXduv663TKeUZ2+3dL2a3X3dKeufTzkud72TNQ16s7aNRyjMNjm5eq4+zZkZev0jp3cbp/PtVvyefMYc1ZK48uWbbD1ZOyb/L39mb9k/j2/p0JXv5RKbzGW24uTLcjRy6RaK7rG5uSty9lbmQPHmT+dz/hEyMLAZhhA6O45RsP+ZtgPcxEYwBeWAYTuOQ1wmQjonwn1AmadHbckVPWxg66aTYpjS/Ccia+NsEsF8pnYNsnnLduPFI9SPzt4W1rt5BwXYBiAgeUYQOgu51u4xbcwsC4GELpnNME1q4/+eUQLkhGEybF1dTIrXuKVJLtqFh87Rcc5krCaydh53BQ4RnyOEA+zu8CtIB+jTdSxrvGKeBGv9TOA0F1/DOmHxBAGDsMAQnemCDksiHaiH23xXbXI7SEtbF12IteIOL9VOmwRtj5YeiXzCMLqIHydi53lbcme19nbfZdvp+atvGX5MAPqYccDbMKfMAAD+zOA0N3fZ3CGz2BgmwwgdA8iRLYJB52euMIADMAADMDAuhhA6K4rXvQv4gUDyzGA0EXo8hICGIABGIABGICBjTCA0F1u0owgwbcwsC4GELobubDR8dbV8YgX8YIBGIABGFiCAYQuXC3BFWXC1RoZQOgidLmLDwMwAAMwAAMwsBEGELoIkjUKEmyG2yUYQOhu5MK2BByUyaADAzAAAzAAA+tiAKG7rnjRv4gXDCzHAEIXoctdfBiAARiAARiAgY0wgNBdbtKMIMG3MLAuBhC6G7mwje54H79R/3r5iXr11dvlJjVPt2pX+rdIP3+pXl+9VE+/r6uTjPbtEixdqM/sv53i/90el73l/73Twdvj/nXZ7H9tddgxqflvrLTNpfFxifGDMpe7zp2xbxG6h+3PBx+3zpgd2go7W2MAoXtpA84cofvuc/Xq9hv1oeUzM/GsCJSiaPtJPVxdqdfy79M36o9WHQc7V6j7i5/2mxj9/kZ9d/Wlencwm5JBtuizJM1SdS9VrmGk/T+SEbrHj7Hx+ZkJxsEL7qmE7hDDrXGw69Qqfb3UeEC5+11zRvgLoXv88XNwrBoRN8ogbjBweAYQugw+4y+yg0LXrghd3z+XyzSiLRWFVmw+/Ozg/lM9fXqlXh9F7KZ1p7+dTY3Powjd1GcNe9bA85BIWEMbtmaj3oWxa9984AIs+t0Yhms7Www7K1w93xrzG24PQlf01Q3HmTGZOMPAMAMI3TUNglpofvVWfXj4TL3S249ffqL+9fDBi8p3X9nf8vzX7wIE+nwpn+korbLdKnBfpyvj1cvP45XM5sQu2BF3zJK4TI/Z337VtyCC//j2ZbQqHIRzrV59PK2nU+++uFLfffun92lnhKxYcfYrvolNfkU635qty3y90Krv8/11eZv4ENdmor5Tu53864WOi6NME6302Um6zxud0359VLei3HDjIz7u8+/EDgBZZya8dP5b9SjTJFtAjT9E3aaOzL4yE3qVTdsqy7h9EmmNGHT+Ejb3vpb5dL0hr/aXTi/bn4hK2SZtv7RZ13vzGNkVfKrtS+JR9Juz27Yx7oN10WXaJG0xdkrbB+pu+WyQM+H7As921d+2K/ZHp7qmz4bioeMUx9exkbJdZNjbWver8b9rv0/fbm8cM9LijzoDCN26b+AG38DAZTGA0F3TJEOLUfl8rRGgn6kfPlpovZDtn781grew1dgJ4qizp2Wb34mQ1ccK5blywmRwn06Ui82us6u6VnDK77rcfsXXC85OWZE7ZdUzrVv/lkK1dL4khNt1n5/QtRNwLw6MGBETe/NbC4he0BhxE84bgeHFT1JWL7p82b3oDaKvU10mlgq8FNM4oeiElv3tyy7ZmQhhx2rp0wunvm1G5Ln8SdlGSDn/6DGkaK9rl/XRToin2IdJO3qfeR+6eDifm9/OB50VwO5cNp6l8Unrats+JHSz87L+IZ+5djk/pullWY3vxXHHle38EvlsTDwC75qVrI5mvF3ch2KjYxHXU+KSY8Gf+GKcLxC64/wET/gJBrbPAEK3MYE6uw6QCc0P6ofbT5RbtTVCVwpRI4QTsdp1qip0Zd7urfr6ZRDRxhdZ/bKD2MmjFx2j/ZqKSVumX1ktbXeOtguX84+Lnc3rV4qvYhFrBHS6eqztkcciW6Q/jvM9EmNjfZ4JikT8GFEgJ+AytjptEFnGzzq9FITue29PJobGiIRimlwYSAGS+SISN8PxMOJT2i5s0GV74WnaJX3ixKJcxZX1JWl1fuGzzO7kvExruY79YPKnMel9bwS4bFNXEF/ClrTfmLKdWNRlCp/otK269bmmz0x8apxJ/7W/Swa8/VmbpM/a8bCrttKu6UI3j51sS8EOFzc+w64afLG3LxC6sp/x3Y+L9KW9+xK+W3//QeiuqeNnQtMKXbd9uShgC+0rpsvK3lfo6olkbaLf6igloSpWcVNhqdsjxaX5LldhW3Wl59K649ViI3TFyrEZ8FJ7pC0FXy8ySBqxEbaihu2TpW2paZv1bxsrL0KM4BDiNRMJooxa3U5MmbIKtjXEUtFHiaCyaaRYsTZFIsfUHQSKEa6y3oH4RGUlaU1Z6ZbolHfZducPU05B0Ji01ueZmNR59HlXhvxuyiv7wXHg4+rKKdgtt0ab+l1dpvwQ78y2Qlykb2Td8rizTX/6m2FZu0K9RSYS21yaYtyysqXP2vE4qNAt+MvZrT+LtlfaKfPxfRorl+I3hC58XArrtBPWhxhA6K5pUpGJ0XxF14neVuCXEbqFyeMo36Zi0wnZK2Wesy2t6EbHdP5DCd1OdULIllZ0s2OnELrCry2RUmfAxqooPnTZmUgQA+nAxL2Z19k9VIZOV0wjxYq1KRIKJo8U2UK8u7obn1FZSbrWuZKfdXovVPvt3F7g6bKFj0sxjI6JtLau3A/BBn1O3PDI8opYujY20owRurW6B33WqDeUWbDX2d1/FuvJypY+K4xVUXqZtsCZrrfIZ8HWqNz0fMGOpG37+IG0qX8v9zdC93JjzzhA7GEgZgChu6aJRSJ07UunwtbkooAttK+YLim7K21dTp4JTjtTccJZqD/Olwpd+/u1X0m1v8MLosRqb1+2eQZWbicerNN1grTupGwjYnvBbcpM0+tySsdc+fbz7J7RbU6+YxEWx0q3pxfJ1ZXSRGgVY2HTRMIvTVcUEm0BMo2/EKtmfu2zPZ6njIRqJnQTH/UCPfgj8U8Wr9wPIU42PmFlNakr9bP+XfS19UvcDluWf3Y7Kyupe8hnWbtCLEJ7ho8V45aVLX2WCszUR/a3i4fxgbx5YNodp6nZm90oiHwmbRpuZ60OjuO7lAGELkykTPAbJi6VAYRuNPE4846gxWj05uMgcjXARQHr26e3Ioe3Lrty/ArwGKHbddEbn4tvXa49K+jtSH1shWLtOVnbMZM0XgSHsqyYDG9H3uety7LuILD7snux69IEwR3qNqvAq3rrci9Wky2tbmIvVxvLA2OePwgr7RcrAqorxpoFI4Lc6mvYbuxEhcwbhFUuDCKR0wvGcl4RrwqLUVmlNJHN2vawYpzbHc75mwPC37G/nNh0/hArss5X0dZi6Yc8FnJbso3fUDxsGZlNxgey/Gt193Snrn275bne9vQGSMNnw5y1Ypa3Scfdt2GE0JWc+Hwu7tLum8fyFmOZpngTxPrH9ytXtvvMbGy1l3PlsQi/lPyC0IWLEhccg4tLZACh6yYda/jMxOi5ddrWhPncbL1ge0oTbDNpl+Jsff4pCVV9LBd+x27bgOA5h7FnA/EffwE/UjxK/czH+kg2+PqOzTz1jefx8L5C6B7ep6eMJ3UTTxiYzgBCd00TgbMXum5lKqzQ0Tmnd86lfGdWH6MVQvtSnPBM6fnZPOyL0k0Wu+qXrdYdvc+vQ9Scx02BY7B3hHiY3QX1cfByfH2MeFJHOj4idGEiZYLfMHGpDCB0jz7pndHZ1iB0tT+bKxkz2r+mWJ21rXaiL7durlvk9kwVti47kWuEhdg6HLXdb8Vdis0jCKuD8HYudpa3JfuYpduj92778u3UvFW3LGtOkxtNlzoBod3LjDkI3WX8Cq/4FQbWxwBCd+9J0vqCTMckZjAAAzAAAzBwGQwgdC8jzvRn4gwDwwwgdBG6/ANtGIABGIABGICBjTCA0B2e/CIQ8BEMXAYDCN2NXNjosJfRYYkzcYYBGIABGGgxgNCFjxYfnIOPS2IAoYvQ5S4+DMAADMAADMDARhhA6CJkLknI0FZ4bzGA0N3Iha0VZM4xCMAADMAADMDAZTCA0L2MONOfiTMMDDOA0EXochcfBmAABmAABmBgIwwgdIcnvwgEfAQDl8EAQvfQF7b3H9TD7lf1vfl7Vr8cunzKYzIGAzAAAzAAAzBQYQChexkTeIQacYaBYQYQupULxWx4jOBF6M7241LxoVwmiTAAAzAAAxtkAKE7PPllboKPYOAyGEDoLnWRQ+gygVqKLcqFLRiAARiAgQoDCN3LmMAj1IgzDAwzgNCtXCia8Dw991uT9Rbl39Tb9wVHV4Xu3+rtC7e1WX+mq75/qR/91udf1cP939nF/Pn+Wu121+quVO+U9pAn83Ez/vgLf8EADMAADJwpAwjdwpzsTGPFXINYwcCyDCB09x38jIAV4taI3lSsdqqrCN2P97+p72/+qkwQrAgO4taK3h+fYggQurE/GCTwBwzAAAzAAAxYBhC69AX6AgzAgGUAobun0NVCNQhR7UQrTlMx2hS62Spu3yG1OH7xQX0UNrWFMR2ZjgwDMAADMAADMBAYQOgGX8AFvoCBy2YAoStE5ZjO8MuN3HYcvo8VuroOWUYkmqMt0aHs+grwZcM7Jl6kgREYgAEYgIFLYgChC++XxDtthfcWAwjdCUI3Eqe1/JWty3Ew7NZkX54WusmKbpwemPEHDMAADMAADMBAnQGEbt03cINvYOCyGEDo1oRq7bhZdRXP6NbSjRK65WdyvfCtlM0zupfVSRmUiTcMwAAMwMBYBhC6sDKWFdLBytYZQOhWxGQz8NkW4/AyKvNMrXhr8vfmuzufvnH518KLqeK3Luv86bZohC4DU5PPKUyTp/KCOFiDNRiAgXUxgNBdV7zoX8QLBpZjAKHLBJ8JPgzAAAzAAAzAwEYYQOguN2lGkOBbGFgXAwjdjVzY6Hjr6njEi3jBAAzAAAwswQBCF66W4Ioy4WqNDCB0EbrcxYcBGIABGIABGNgIAwhdBMkaBQk2w+0SDCB0N3JhWwIOymTQgQEYgAEYgIF1MYDQXVe86F/ECwaWYwChi9DlLj4MwAAMwAAMwMBGGEDoLjdpRpDgWxhYFwMI3Y1c2Oh46+p4xIt4wQAMwAAMLMEAQheuluCKMuFqjQwgdBG63MWHARiAARiAARjYCAMIXQTJGgUJNsPtEgwgdDdyYVsCDspk0IEBGIABGICBdTGA0F1XvOhfxAsGlmMAoYvQ5S4+DMAADMAADMDARhhA6C43aUaQ4FsYWBcDCN2NXNhGd7yP36h/vfxEvfrq7XKTmqdbtXtxp55T3/59SgceAAAJ2ElEQVT8pXp99VI9/b6uTjLat2l7D/F7EZ89qtvdtbp7TxxOEtta/zgELwuV8XizU7tzY+b9nboujTO9D57vr9X1/fNy49xCvj4Jk7RlU5wgdLm2MY7AAAxYBhC6l3aBnyN0332uXt1+oz60fKYnn7UJcVG0/aQerq7Ua/n36Rv1R6uOg50r1P3FT/tNeH5/o767+lK9O5hNyeBc9FmSZu+65wtdLXwQERPi0Oofe8dxQv0T6ziV0B3izNh181jps5rznbp9Op6fmFjg63NgAKELh+fAITbA4TkwgNCdOPE7h+Ad3YZBofus7l40BJARbakotGLz4Wc3IPypnj69Uq+PInbTutPfzqbG51GEbuqzhj2jeEboHr3vmLgM9I9RsZsb+3XlHxK6XWd9WhWz5sbCrXrEt5WbAevi4TT9dn0+QuiuL2awTcxgYBkGELprmgBpofnVW/Xh4TP1Sm8/fvmJ+tfDBz+BefeV/S3Pf/0ugKPPl/KZztUq260C93W6Ml69/DxeyZy0JbMkLtNj9rdf9S2I4D++fRmtCgfhHNqfDyJpPZ1698WV+u7bP71POyNkxYqzX/FNbPIr0vnWbF3m64VWffX2zOI28SbXvdB90qvvekvqLivDruD158QKvanP5ZGf1VW1xP9eeNjVtlLdcR2pSBH5Urs1fzePSuZPV51r7bKCSW/nluUndevyRZvTsmW9u12SV8ej2j/6eIit5JnAa9ZtxZ63LYpFEIKh7XtsWzfxchykbdJlN3w2EA/jL2mrZ6OLYujbpX0v0zvGq3617GW+dPn4DOMcvtiULxC6yXUHvjfFdz6XI974pM4AQndNA6AWo/L5WiNAP1M/fLQB9kK2f/7WCN7CVmMniKOOkZZtfidCVh8rlOfKmTahzMVm19lVXSs45Xfdzn7F1wvOTlmRO2XVM61b/5ZCtXS+JITbdZ+n0NXixQkXK4accDMCRDz7aAWcS2tZmxbrTnVeODmxZYWlX5Ezgi7UldrSrNeJQSeGTF2unl48VdvlxKJLH/uk63Ix6rg3nwN26zR12/Oy47T5eVm3ThsEYGq3a1fYaRGnr18cZB02biEu9pwru+KzMfFwsdLjsBC6ru7YDzVb2/6p32Colcdx538+18kCQnedcaO/ETcYODwDCN21Cd1IaH5QP9x+otyqrRG68rwRwolY7TpVFboyb/dWff0yiGjT+ZpC1056vWAZ7ddUTFrI/cpqabtztF24nH/cYGHz+pXiq1jEGgGdrh5re+SxyJbDd9ChdqRCcCi9PZ8Lg1COPpc+15jHdpwAKfijF7qSE1mW/i7PpQJTn6+uYGthJYRsvK11qF15G41PvBCz+d3NgNTPQ3bHtqR+yeMhfWJ9EIRqXLfOmwjQyA+9GPXtaK0sp3aJ3wURWmpT5LPIDl1W7OMo7SyhG5cb+6csoLM0o8cr4RPysEp0pgwgdOmnjHEwAAOWAYTumV6oioBmQtMKXbd9uShgC+0rpsvK3lfoloTEmIGmJFTFKm4qLHV7pLg03+Uq7Jg6XZq07ni12AhdsXJsYpLaI20p+LoYx7nperEYbenst9TWhFhsRy6swqpX4VwiUHRZsRBz/hzxWRRMLl8vysT2YNtGt2Ko08VpIlFcEVbWJ0PtysVSWYiVtvHGNoW4SLtb/SO3LfNvFHMhbKPjzjZ5MyBvV8yC8/3AZzFuedmRz5rx6FfYpQAv1JH5odJ32uly/07yQaVuyhpgB78d/YYAQhcmGZdgAAYsAwjdNV2EMzGar+g60dsCfBmhm096WzaEc6nYdEL2SpnnbEsrutExnf9QQrdTnRCypRXd7NgphK5g1giLaBVzzOCeT/yDQCkJsvxYW1g0bCiImcDCngz1Is+L3YqwsufzNriVUns+rzv4JG+POedXUvO8oU0ubytNHo+Wf6O6m/7UdbfqdbaN+CzWk5cd+awZj0MK3dyOyP9F20e0WfSzqDyOH1244f/9eEXo7ucv+MJfMLBdBhC6a5q0JELXvnQqbE0uCthC+4rpkrK70tbl5JngdGBoTc7TtOF3KnTt79d+JdX+Di+IEqu9fdvMM7ByO3GhzaE+2ZnTupOyjYjtBbcpM02vyyodk3XYF1yd5cuo/MuPYhGo4yi3ABvxkojp0rGyj2NflJ7DlPkiETcYx9jusCpt60zLarcrF0smv1xxlPZoEeeFrnt5klhplWn77/X+EbfD2l3bqtxvPfZ1W7vDM7qJv89I6KbxML89V9YH0qeaizhN2jb3W+eVq+fueP+ZCe7kfCFWkkm+46+1MYDQhdm1MYu9MLsUAwjdNU1ytBiN3nwcRK4GpChgffv0VuTw1mVXjl8BHiN0uy5643Pxrct+Aj6201qhWHtO1oKfpPEiONRhX/gU3o68z1uXZd1BYPdl92LXpQmCO9RtVoFX99Zlsc01eybXbk0OW3BLAq4XWG6bcU0Qev56f41YXXNCz9efiaFge7RV24jPcC4VTZolI3adzRGrA0I3KzsXVnW7+7Yn4jga1GX5N4/x1nB5ztie1p3EYidFct6uqN40PsnvrE2mfsdDXrZJ71jI7Hb5XN+Rdl+rO/MW8FYa+dItV8bwM8f1GwyijKTd+/iItPjx3BhA6MLkuTGJPTB5KgYQumua4GRi9Nw6jp24RuJjTf7F1nVvSdTCyovic+sb2p4L6x9HiUcutqOL6YgbK1F6xoB1jwHEz8QPoXuO4z82MdbCwCkYQOiu6cJ49kLXveE0XXGic5+ic19cnUcRVjNZNsLrQvrHEeJhVujdCnI2lsdbwi+uP2T+mMku5a3mJgBCF9YZ72AABiwDCN01XbzXIHS1P48wwaUDn+EgbkSc3Docf198pX8t3J2JneVtyS5mBxDjS7dT89ZYwdftW5y5NV0/sHU1QnXu9Q2he4bXR/rfxfS/uf2X/IftvwhdBh8GHxiAARiAARiAgY0wgNA97EQZ4YE/YWC9DCB0N3JhoxOutxMSO2IHAzAAAzBwKAYQurB0KJYoB5bWzgBCF6HLXXwYgAEYgAEYgIGNMIDQRZysXZxgPwwfigGE7kYubIcCgnIYXGAABmAABmBgvQwgdNcbO/odsYOBwzKA0EXochcfBmAABmAABmBgIwwgdA87UUZ44E8YWC8DCN2NXNjohOvthMSO2MEADMAADByKAYQuLB2KJcqBpbUzgNBF6HIXHwZgAAZgAAZgYCMMIHQRJ2sXJ9gPw4diAKG7kQvboYCgHAYXGIABGIABGFgvAwjd9caOfkfsYOCwDCB0EbrcxYcBGIABGIABGNgIAwjdw06UER74EwbWywBCdyMXNjrhejshsSN2MAADMAADh2IAoQtLh2KJcmBp7Qz8f5A0SzDU/w4CAAAAAElFTkSuQmCC)"
      ]
    },
    {
      "cell_type": "code",
      "metadata": {
        "colab": {
          "base_uri": "https://localhost:8080/"
        },
        "id": "fuXsGX0kA6vU",
        "outputId": "26a43a0b-3a62-4760-914c-cf6fefa499da"
      },
      "source": [
        "#Start Chat\n",
        "print(\"Doc Bot: I am DOc bot and I will answer your queries about chronic kidney disease, if you want to exit type, bye  ?\")\n",
        "\n",
        "exit_list=['exit','bye','see you later','quit']\n",
        "\n",
        "while(True):\n",
        "    user_input=input()\n",
        "    if user_input.lower() in exit_list:\n",
        "        print('Doc Bot: Bye Bye See you later')\n",
        "        break\n",
        "    else:\n",
        "        if greeting_response(user_input)!= None:\n",
        "            print('Doc Bot: '+ greeting_response(user_input))\n",
        "        else:\n",
        "            print('Doc Bot: '+ bot_response(user_input))"
      ],
      "execution_count": 18,
      "outputs": [
        {
          "output_type": "stream",
          "name": "stdout",
          "text": [
            "Doc Bot: I am DOc bot and I will answer your queries about chronic kidney disease, if you want to exit type, bye  ?\n",
            "what is symptoms\n",
            "Doc Bot:  Symptoms\n",
            "\n",
            "Signs and symptoms of chronic kidney disease develop over time if kidney damage progresses slowly.\n",
            "symptoms\n",
            "Doc Bot:  Symptoms\n",
            "\n",
            "Signs and symptoms of chronic kidney disease develop over time if kidney damage progresses slowly.\n",
            "how kidney work\n",
            "Doc Bot:  Causes\n",
            "\n",
            "Healthy kidney vs. diseased kidney Open pop-up dialog box Close Healthy kidney vs. diseased kidney Healthy kidney vs. diseased kidney A typical kidney has about 1 million filtering units.\n",
            "exit\n",
            "Doc Bot: Bye Bye See you later\n"
          ]
        }
      ]
    },
    {
      "cell_type": "code",
      "metadata": {
        "id": "WWdOizj-CRGp"
      },
      "source": [
        "# Buat pertanyaan pada kolom diatas seperti : what is chronic kidney disease?, dll."
      ],
      "execution_count": null,
      "outputs": []
    },
    {
      "cell_type": "markdown",
      "metadata": {
        "id": "zJ5gxzVCgftf"
      },
      "source": [
        "# AI Chatbot Versi Bahasa **Indonesia**"
      ]
    },
    {
      "cell_type": "markdown",
      "metadata": {
        "id": "8_wr-R5RkP_f"
      },
      "source": [
        "## Proses 1 (Making Corpus with Download an Article)"
      ]
    },
    {
      "cell_type": "code",
      "metadata": {
        "colab": {
          "base_uri": "https://localhost:8080/"
        },
        "id": "ysrbdejgsfpH",
        "outputId": "bc57cd45-e416-48f9-fade-6705e7be1c95"
      },
      "source": [
        "article = Article('https://warstek.com/kabel-laut/')\n",
        "article.download()\n",
        "article.parse()\n",
        "article.nlp()\n",
        "corpus = article.text\n",
        "print(corpus)"
      ],
      "execution_count": 19,
      "outputs": [
        {
          "output_type": "stream",
          "name": "stdout",
          "text": [
            "Telkomsel, Indihome, dan Kabel Laut JaSuKa\n",
            "\n",
            "Pada hari Minggu lalu (19 September 2021), terjadi gangguan jaringan internet pada Telkomsel dan Indihome. Gangguan tersebut menyebabkan penurunan kualitas layanan TelkomGroup baik fixed maupun mobile broadband di beberapa wilayah Indonesia. Di masa pandemi yang menuntut orang untuk berada di rumah seperti ini, gangguan internet tentu menjadi masalah besar. Berbagai kegiatan penting seperti Seleksi Kompetensi Dasar (SKD) CPNS mengalami penundaan. Netizen pun banyak berkomentar negatif terkait hal ini. Saat artikel ini dirilis, gangguan tersebut mungkin belum benar-benar terselesaikan.\n",
            "\n",
            "Gangguan tersebut disebabkan oleh masalah pada sistem komunikasi kabel laut JaSuKa (Jawa, Sumatera dan Kalimantan) ruas Batam-Pontianak. Telkom memperkirakan proses perbaikan kabel laut yang terganggu akan berlangsung sekitar sebulan. Meski begitu, Telkom mencoba berbagai alternatif agar jaringan internet tetap dapat berjalan sebaik mungkin, meski tentu tidak sebaik ketika kondisi normal.\n",
            "\n",
            "Bagaimana pun juga, gangguan ini membuat banyak orang bertanya-tanya, “Apa hubungannya kabel di laut dengan internet?”, “Kenapa jaringan internet itu malah lewat kabel laut?”, “Kenapa nggak pakai satelit aja?”, “Kenapa jaringannya tidak segera membaik?”, dan lainnya. Artikel singkat ini akan mencoba membahas sedikit terkait hal itu.\n",
            "\n",
            "Ya, Internet itu ada di Bawah Laut\n",
            "\n",
            "Internet sering diasosiasikan dengan kata cloud atau wireless sehingga kita merasa bahwa internet itu dibawa oleh udara di sekitar kita. Ketika kita mendengar kata “jaringan internet”, yang terbayang mungkin gelombang antara menara pemancar di Bumi dengan satelit di angkasa. Itu tidak sepenuhnya salah. Internet memang ada di sekitar kita dan satelit memegang peran penting untuk itu. Namun, persepsi itu membuat kita melupakan bagian lain dari internet. Bagian terpenting yang sangat vital namun tidak akan pernah kita lihat, yaitu kabel laut. Sebelumnya, perlu kita ketahui bersama bahwa:\n",
            "\n",
            "99% Komunikasi Data Internasional itu Melalui Kabel Laut\n",
            "\n",
            "Itu adalah kalimat yang sudah banyak disampaikan di berbagai media massa, namun sepertinya masih belum banyak diketahui masyarakat umum. Lebih detailnya lagi, hanya sekitar 300 kabel bawah laut yang bertanggung jawab terhadap 99% lalu lintas komunikasi data internasional.\n",
            "\n",
            "Jaringan Kabel Laut di Dunia – www.submarinecablemap.com\n",
            "\n",
            "Gambar di atas merupakan jaringan kabel laut di dunia yang dapat diakses di www.submarinecablemap.com. Di sana, kita tidak hanya bisa melihat jaringan kabel secara keseluruhan, namun juga melihat lebih detail terkait salah satu kabel yang ada. Dari gambar di atas, jaringannya memang terlihat sangat banyak dan sangat rumit. Namun, kita perlu ingat bahwa komunikasi yang senantiasa terjadi di internet itu juga sangat banyak dan sangat rumit, jauh lebih banyak dan lebih rumit dari yang bisa kita bayangkan.\n",
            "\n",
            "Ketika kita mengirim satu chat ke teman di samping kita misalnya. Bisa jadi chat kita akan menempuh perjalanan yang amat sangat jauh. Mulai dari puluhan kilometer jalur darat secara wireless, kemudian melalui ribuan kilometer kabel laut, menuju ke data center di China atau Amerika, lalu kembali lagi ke Indonesia melalui kabel laut, dan sampai ke teman di samping kita secara wireless. Itu salah satu skenario yang mungkin terjadi, bisa saja jauh lebih pendek atau jauh lebih panjang. Sebagai mahasiswa Teknik Elektro yang pernah sedikit mendalami internet, yang bisa penulis katakan terkait internet adalah “It’s never been simple”\n",
            "\n",
            "Mengenal Kabel Laut\n",
            "\n",
            "Ketika mendengar bahwa 99% internet itu melewati kabel laut, apa bayangan kita terkait bentuk fisik dari kabel laut itu? Ukurannya mungkin memang sangat bervariasi, namun gambar berikut bisa memberikan gambaran bahwa ukuran kabelnya bisa jadi hanya sekecil ini\n",
            "\n",
            "Isi dari Kabel Laut – 99percentinvisible.org\n",
            "\n",
            "Hampir seluruh luasannya digunakan sebagai pelindung. Bagian yang mengalirkan informasi adalah fiber optik yang ukurannya tidak berbeda jauh dari sehelai rambut kita. Meski sangat kecil, dia mampu membawa informasi dengan sangat cepat, mendekati kecepatan cahaya. Itu karena informasi dibawa bukan sebagai sinyal listrik seperti kabel di rumah, namun sebagai sinyal cahaya. Kapasitasnya juga sangat besar, satu helai saja bisa memiliki kapasitas 100 gigabit per sekon. [Baca: Dasar Komunikasi Fiber Optik dan FTTH (Fiber To The Home)]\n",
            "\n",
            "Dengan itu semua, kabel laut jauh lebih cepat daripada satelit. Itu karena satelit yang biasanya digunakan untuk internet berada puluhan ribu kilometer di atas kita. Sementara itu, jalur melalui laut tidak akan lebih dari belasan ribu kilometer saja. Kapasitas transfer data dari satelit juga jauh lebih sulit untuk ditingkatkan dibanding kabel laut. Maka, meski keduanya memanfaatkan kecepatan cahaya, secara umum kabel laut tetap jauh lebih cepat daripada satelit. (Baca: SpaceX Luncurkan 60 Satelit Penyedia Internet Starlink)\n",
            "\n",
            "Namun, kabel laut juga memiliki banyak masalah. Banyak pihak yang menyebutkan bahwa kabel laut yang menjadi tulang punggung internet kita ini sebenarnya sangatlah rentan. Kabel laut dapat mengalami masalah akibat faktor alam, namun ini hanya mencakup 14 persen saja. Association of Sea Cable Communication Systems menyebutkan bahwa sebanyak 47% gangguan kabel laut disebabkan oleh jangkar kapal. Sementara itu, 28% disebabkan oleh sektor perikanan yang menggunakan FAD (fish aggregating devices). Di Indonesia pun, jangkar juga menjadi penyebab gangguan kabel terbesar. Hal itu mengingat lautan Indonesia juga sering dilewati banyak kapal.\n",
            "\n",
            "Jaringan Kabel Laut di Indonesia\n",
            "\n",
            "Kabel laut yang ada di negeri kita juga cukup banyak. Hal itu dapat dilihat pada Gambar berikut yang juga didapatkan dari www.submarinecablemap.com. Pada Gambar ini, jaringan kabel JaSuKa yang dimiliki Telkom Indonesia terlihat berwarna biru tua dan menghubungkan berbagai titik di Jawa, Sumatera, dan Kalimantan. JaSuKa memiliki total panjang hampir 11 ribu kilometer dan disebut menjadi salah satu yang terpanjang di dunia.\n",
            "\n",
            "Jaringan Kabel Laut di Indonesia – www.submarinecablemap.com\n",
            "\n",
            "Kabel laut memang jauh lebih murah daripada satelit, namun tetap saja tidak mudah dan tidak sederhana. Baik perencanaan maupun pengelolaannya memerlukan banyak pengorbanan. Ini wajar saja mengingat dunia bawah laut sangatlah kompleks dan penuh dengan berbagai hal yang tak terduga. Perlu diketahui pula bahwa setiap beberapa puluh kilometer, perlu terdapat repeater untuk menguatkan kembali sinyal cahaya yang telah melemah. Melihat kompleksitas itu, wajar saja jika perbaikan gangguan tidak bisa selesai dalam satu malam.\n",
            "\n",
            "Meski demikian, sistem yang besar umumnya memiliki berbagai alternatif jika sistem utamanya gagal. Hal ini juga kita dengar dari pihak Telkom, bahwa jalur backup dan alternatif telah diaktifkan untuk destinasi utama tertentu. Berbagai hal teknis yang tidak akan dipahami masyarakat umum pasti juga telah dilakukan.\n",
            "\n",
            "Bagaimana pun juga, gangguan ini menunjukan pada kita semua bahwa sistem internet di Indonesia sebenarnya masih belum kuat dan sangat rentan, apalagi jika kita meninjau Indonesia Timur. Di satu sisi, masyarakat umum perlu menyadari bahwa sistem internet secara fisiknya memang sangat kompleks dan sangat rentan terhadap berbagai gangguan serta tidak bisa diperbaiki dengan mudah. Di sisi lain, berbagai pihak yang berpartisipasi langsung di dalamnya perlu terus melakukan evaluasi dan pengembangan agar sistem internet di negeri kita dapat menjadi lebih handal. (Baca: Analisis terhadap Kualitas Jaringan Internet Indonesia yang Memburuk)\n",
            "\n",
            "Referensi\n",
            "\n",
            "Nur Fitriatus Shalihah, Sari Hardiyanto. Kronologi Gangguan Indihome dan Telkomsel Selama Beberapa Hari. Diakses dari Kompas: https://www.kompas.com/tren/read/2021/09/22/100958665/kronologi-gangguan-indihome-dan-telkomsel-selama-beberapa-hari?page=all\n",
            "\n",
            "Conney Stephanie, Oik Yusuf. Telkom Sebut Perbaikan Kabel Laut Jasuka Butuh Waktu Sebulan. Diakses dari Kompas: https://tekno.kompas.com/read/2021/09/22/19534287/telkom-sebut-perbaikan-kabel-laut-jasuka-butuh-waktu-sebulan\n",
            "\n",
            "Submarine Cable Map. https://www.submarinecablemap.com\n",
            "\n",
            "Kurt Kohlstedt. Underwater Cloud: Inside the Cables Carrying 99% of Transoceanic Data Traffic. Diakses dari 99% Invisible: https://99percentinvisible.org/article/underwater-cloud-inside-cables-carrying-99-international-data-traffic\n",
            "\n",
            "Dedi Dinarto. The Security Challenges Facing Indonesia’s Submarine Cable Communication System. Diakses dari The Diplomat: https://thediplomat.com/2021/06/the-security-challenges-facing-indonesias-submarine-cable-communication-system\n",
            "\n",
            "Setelah selesai membaca, yuk berikan artikel ini penilaian! Klik berdasarkan jumlah bintang untuk menilai!\n",
            "\n",
            "\n",
            "\n",
            "\n",
            "\n",
            "\n",
            "\n",
            "Berikan penilaian Rata-rata nilai 5 / 5. Banyaknya vote: 3 Belum ada yang menilai! Yuk jadi yang pertama kali menilai! Baca juga:\n",
            "\n",
            "\n",
            "\n",
            "Bagikan ini: Cetak\n",
            "\n",
            "WhatsApp\n",
            "\n",
            "Facebook\n",
            "\n",
            "Twitter\n",
            "\n",
            "Telegram\n",
            "\n",
            "\n"
          ]
        }
      ]
    },
    {
      "cell_type": "markdown",
      "metadata": {
        "id": "6KQ3Or6fiKxv"
      },
      "source": [
        "## Proses 2 (Tokenization)"
      ]
    },
    {
      "cell_type": "code",
      "metadata": {
        "colab": {
          "base_uri": "https://localhost:8080/"
        },
        "id": "YJkPyF09EMxy",
        "outputId": "304853ed-ec4b-4d62-837f-c21608bb7430"
      },
      "source": [
        "# Tokenization\n",
        "text = corpus\n",
        "sentence_list = nltk.sent_tokenize(text) #A list of senetences\n",
        "\n",
        "# Print the list of sentences\n",
        "print(sentence_list)"
      ],
      "execution_count": 20,
      "outputs": [
        {
          "output_type": "stream",
          "name": "stdout",
          "text": [
            "['Telkomsel, Indihome, dan Kabel Laut JaSuKa\\n\\nPada hari Minggu lalu (19 September 2021), terjadi gangguan jaringan internet pada Telkomsel dan Indihome.', 'Gangguan tersebut menyebabkan penurunan kualitas layanan TelkomGroup baik fixed maupun mobile broadband di beberapa wilayah Indonesia.', 'Di masa pandemi yang menuntut orang untuk berada di rumah seperti ini, gangguan internet tentu menjadi masalah besar.', 'Berbagai kegiatan penting seperti Seleksi Kompetensi Dasar (SKD) CPNS mengalami penundaan.', 'Netizen pun banyak berkomentar negatif terkait hal ini.', 'Saat artikel ini dirilis, gangguan tersebut mungkin belum benar-benar terselesaikan.', 'Gangguan tersebut disebabkan oleh masalah pada sistem komunikasi kabel laut JaSuKa (Jawa, Sumatera dan Kalimantan) ruas Batam-Pontianak.', 'Telkom memperkirakan proses perbaikan kabel laut yang terganggu akan berlangsung sekitar sebulan.', 'Meski begitu, Telkom mencoba berbagai alternatif agar jaringan internet tetap dapat berjalan sebaik mungkin, meski tentu tidak sebaik ketika kondisi normal.', 'Bagaimana pun juga, gangguan ini membuat banyak orang bertanya-tanya, “Apa hubungannya kabel di laut dengan internet?”, “Kenapa jaringan internet itu malah lewat kabel laut?”, “Kenapa nggak pakai satelit aja?”, “Kenapa jaringannya tidak segera membaik?”, dan lainnya.', 'Artikel singkat ini akan mencoba membahas sedikit terkait hal itu.', 'Ya, Internet itu ada di Bawah Laut\\n\\nInternet sering diasosiasikan dengan kata cloud atau wireless sehingga kita merasa bahwa internet itu dibawa oleh udara di sekitar kita.', 'Ketika kita mendengar kata “jaringan internet”, yang terbayang mungkin gelombang antara menara pemancar di Bumi dengan satelit di angkasa.', 'Itu tidak sepenuhnya salah.', 'Internet memang ada di sekitar kita dan satelit memegang peran penting untuk itu.', 'Namun, persepsi itu membuat kita melupakan bagian lain dari internet.', 'Bagian terpenting yang sangat vital namun tidak akan pernah kita lihat, yaitu kabel laut.', 'Sebelumnya, perlu kita ketahui bersama bahwa:\\n\\n99% Komunikasi Data Internasional itu Melalui Kabel Laut\\n\\nItu adalah kalimat yang sudah banyak disampaikan di berbagai media massa, namun sepertinya masih belum banyak diketahui masyarakat umum.', 'Lebih detailnya lagi, hanya sekitar 300 kabel bawah laut yang bertanggung jawab terhadap 99% lalu lintas komunikasi data internasional.', 'Jaringan Kabel Laut di Dunia – www.submarinecablemap.com\\n\\nGambar di atas merupakan jaringan kabel laut di dunia yang dapat diakses di www.submarinecablemap.com.', 'Di sana, kita tidak hanya bisa melihat jaringan kabel secara keseluruhan, namun juga melihat lebih detail terkait salah satu kabel yang ada.', 'Dari gambar di atas, jaringannya memang terlihat sangat banyak dan sangat rumit.', 'Namun, kita perlu ingat bahwa komunikasi yang senantiasa terjadi di internet itu juga sangat banyak dan sangat rumit, jauh lebih banyak dan lebih rumit dari yang bisa kita bayangkan.', 'Ketika kita mengirim satu chat ke teman di samping kita misalnya.', 'Bisa jadi chat kita akan menempuh perjalanan yang amat sangat jauh.', 'Mulai dari puluhan kilometer jalur darat secara wireless, kemudian melalui ribuan kilometer kabel laut, menuju ke data center di China atau Amerika, lalu kembali lagi ke Indonesia melalui kabel laut, dan sampai ke teman di samping kita secara wireless.', 'Itu salah satu skenario yang mungkin terjadi, bisa saja jauh lebih pendek atau jauh lebih panjang.', 'Sebagai mahasiswa Teknik Elektro yang pernah sedikit mendalami internet, yang bisa penulis katakan terkait internet adalah “It’s never been simple”\\n\\nMengenal Kabel Laut\\n\\nKetika mendengar bahwa 99% internet itu melewati kabel laut, apa bayangan kita terkait bentuk fisik dari kabel laut itu?', 'Ukurannya mungkin memang sangat bervariasi, namun gambar berikut bisa memberikan gambaran bahwa ukuran kabelnya bisa jadi hanya sekecil ini\\n\\nIsi dari Kabel Laut – 99percentinvisible.org\\n\\nHampir seluruh luasannya digunakan sebagai pelindung.', 'Bagian yang mengalirkan informasi adalah fiber optik yang ukurannya tidak berbeda jauh dari sehelai rambut kita.', 'Meski sangat kecil, dia mampu membawa informasi dengan sangat cepat, mendekati kecepatan cahaya.', 'Itu karena informasi dibawa bukan sebagai sinyal listrik seperti kabel di rumah, namun sebagai sinyal cahaya.', 'Kapasitasnya juga sangat besar, satu helai saja bisa memiliki kapasitas 100 gigabit per sekon.', '[Baca: Dasar Komunikasi Fiber Optik dan FTTH (Fiber To The Home)]\\n\\nDengan itu semua, kabel laut jauh lebih cepat daripada satelit.', 'Itu karena satelit yang biasanya digunakan untuk internet berada puluhan ribu kilometer di atas kita.', 'Sementara itu, jalur melalui laut tidak akan lebih dari belasan ribu kilometer saja.', 'Kapasitas transfer data dari satelit juga jauh lebih sulit untuk ditingkatkan dibanding kabel laut.', 'Maka, meski keduanya memanfaatkan kecepatan cahaya, secara umum kabel laut tetap jauh lebih cepat daripada satelit.', '(Baca: SpaceX Luncurkan 60 Satelit Penyedia Internet Starlink)\\n\\nNamun, kabel laut juga memiliki banyak masalah.', 'Banyak pihak yang menyebutkan bahwa kabel laut yang menjadi tulang punggung internet kita ini sebenarnya sangatlah rentan.', 'Kabel laut dapat mengalami masalah akibat faktor alam, namun ini hanya mencakup 14 persen saja.', 'Association of Sea Cable Communication Systems menyebutkan bahwa sebanyak 47% gangguan kabel laut disebabkan oleh jangkar kapal.', 'Sementara itu, 28% disebabkan oleh sektor perikanan yang menggunakan FAD (fish aggregating devices).', 'Di Indonesia pun, jangkar juga menjadi penyebab gangguan kabel terbesar.', 'Hal itu mengingat lautan Indonesia juga sering dilewati banyak kapal.', 'Jaringan Kabel Laut di Indonesia\\n\\nKabel laut yang ada di negeri kita juga cukup banyak.', 'Hal itu dapat dilihat pada Gambar berikut yang juga didapatkan dari www.submarinecablemap.com.', 'Pada Gambar ini, jaringan kabel JaSuKa yang dimiliki Telkom Indonesia terlihat berwarna biru tua dan menghubungkan berbagai titik di Jawa, Sumatera, dan Kalimantan.', 'JaSuKa memiliki total panjang hampir 11 ribu kilometer dan disebut menjadi salah satu yang terpanjang di dunia.', 'Jaringan Kabel Laut di Indonesia – www.submarinecablemap.com\\n\\nKabel laut memang jauh lebih murah daripada satelit, namun tetap saja tidak mudah dan tidak sederhana.', 'Baik perencanaan maupun pengelolaannya memerlukan banyak pengorbanan.', 'Ini wajar saja mengingat dunia bawah laut sangatlah kompleks dan penuh dengan berbagai hal yang tak terduga.', 'Perlu diketahui pula bahwa setiap beberapa puluh kilometer, perlu terdapat repeater untuk menguatkan kembali sinyal cahaya yang telah melemah.', 'Melihat kompleksitas itu, wajar saja jika perbaikan gangguan tidak bisa selesai dalam satu malam.', 'Meski demikian, sistem yang besar umumnya memiliki berbagai alternatif jika sistem utamanya gagal.', 'Hal ini juga kita dengar dari pihak Telkom, bahwa jalur backup dan alternatif telah diaktifkan untuk destinasi utama tertentu.', 'Berbagai hal teknis yang tidak akan dipahami masyarakat umum pasti juga telah dilakukan.', 'Bagaimana pun juga, gangguan ini menunjukan pada kita semua bahwa sistem internet di Indonesia sebenarnya masih belum kuat dan sangat rentan, apalagi jika kita meninjau Indonesia Timur.', 'Di satu sisi, masyarakat umum perlu menyadari bahwa sistem internet secara fisiknya memang sangat kompleks dan sangat rentan terhadap berbagai gangguan serta tidak bisa diperbaiki dengan mudah.', 'Di sisi lain, berbagai pihak yang berpartisipasi langsung di dalamnya perlu terus melakukan evaluasi dan pengembangan agar sistem internet di negeri kita dapat menjadi lebih handal.', '(Baca: Analisis terhadap Kualitas Jaringan Internet Indonesia yang Memburuk)\\n\\nReferensi\\n\\nNur Fitriatus Shalihah, Sari Hardiyanto.', 'Kronologi Gangguan Indihome dan Telkomsel Selama Beberapa Hari.', 'Diakses dari Kompas: https://www.kompas.com/tren/read/2021/09/22/100958665/kronologi-gangguan-indihome-dan-telkomsel-selama-beberapa-hari?page=all\\n\\nConney Stephanie, Oik Yusuf.', 'Telkom Sebut Perbaikan Kabel Laut Jasuka Butuh Waktu Sebulan.', 'Diakses dari Kompas: https://tekno.kompas.com/read/2021/09/22/19534287/telkom-sebut-perbaikan-kabel-laut-jasuka-butuh-waktu-sebulan\\n\\nSubmarine Cable Map.', 'https://www.submarinecablemap.com\\n\\nKurt Kohlstedt.', 'Underwater Cloud: Inside the Cables Carrying 99% of Transoceanic Data Traffic.', 'Diakses dari 99% Invisible: https://99percentinvisible.org/article/underwater-cloud-inside-cables-carrying-99-international-data-traffic\\n\\nDedi Dinarto.', 'The Security Challenges Facing Indonesia’s Submarine Cable Communication System.', 'Diakses dari The Diplomat: https://thediplomat.com/2021/06/the-security-challenges-facing-indonesias-submarine-cable-communication-system\\n\\nSetelah selesai membaca, yuk berikan artikel ini penilaian!', 'Klik berdasarkan jumlah bintang untuk menilai!', 'Berikan penilaian Rata-rata nilai 5 / 5.', 'Banyaknya vote: 3 Belum ada yang menilai!', 'Yuk jadi yang pertama kali menilai!', 'Baca juga:\\n\\n\\n\\nBagikan ini: Cetak\\n\\nWhatsApp\\n\\nFacebook\\n\\nTwitter\\n\\nTelegram']\n"
          ]
        }
      ]
    },
    {
      "cell_type": "code",
      "metadata": {
        "id": "wj4U2cF2EWN2"
      },
      "source": [
        "#a function to return a random greeting response to a users greeting\n",
        "def greeting_response(text):\n",
        "    text = text.lower()\n",
        "    \n",
        "    #Bots greeting respone\n",
        "    bot_greetings = ['halo','hai','yuhuu','*eyebrows up*']\n",
        "    \n",
        "    #Users greeting\n",
        "    user_greetings = ['Haloo','Eh iyaa Haii','Hai','greetings','wassup']\n",
        "    \n",
        "    for word in text.split():\n",
        "        if word in user_greetings:\n",
        "            return random.choice(bot_greetings)\n",
        "        \n",
        "    #Random response to greeting\n",
        "    def gratitude_response(text):\n",
        "        text=text.lower()   "
      ],
      "execution_count": 22,
      "outputs": []
    },
    {
      "cell_type": "code",
      "metadata": {
        "id": "9SCRe9e8EdZ_"
      },
      "source": [
        "def index_sort(list_var):\n",
        "    length = len(list_var)\n",
        "    list_index = list(range(0, length))\n",
        "    \n",
        "    x = list_var        \n",
        "    for i in range(length):\n",
        "        for j in range(length):\n",
        "            if x[list_index[i]] > x[list_index[j]]:\n",
        "                #swap\n",
        "                temp = list_index[i]\n",
        "                list_index[i] = list_index[j]\n",
        "                list_index[j] = temp\n",
        "                \n",
        "    return list_index"
      ],
      "execution_count": 23,
      "outputs": []
    },
    {
      "cell_type": "code",
      "metadata": {
        "id": "BOuZK0BnElPj"
      },
      "source": [
        "# Creat Bots Response\n",
        "def bot_response(user_input):\n",
        "    user_input=user_input.lower()\n",
        "    sentence_list.append(user_input)\n",
        "    bot_response= ''\n",
        "    cm=CountVectorizer().fit_transform(sentence_list)\n",
        "    similarity_scores=cosine_similarity(cm[-1],cm)\n",
        "    similarity_scores_list=similarity_scores.flatten()\n",
        "    index=index_sort(similarity_scores_list)\n",
        "    index=index[1:]\n",
        "    response_flag=0\n",
        "    \n",
        "    j=0\n",
        "    for i in range(len(index)):\n",
        "        if similarity_scores_list[index[i]]>0.0:\n",
        "            bot_response=bot_response+' '+sentence_list[index[i]]\n",
        "            response_flag=1\n",
        "            j=j+1\n",
        "        if j>2:\n",
        "            break\n",
        "\n",
        "        if response_flag==0:\n",
        "            bot_response=bot_response+\" \"+\"Maaf, Saya tidak paham dengan yang anda tanyakan\"\n",
        "\n",
        "        sentence_list.remove(user_input) \n",
        "\n",
        "        return bot_response"
      ],
      "execution_count": 24,
      "outputs": []
    },
    {
      "cell_type": "markdown",
      "metadata": {
        "id": "PVF_g7Xyiia8"
      },
      "source": [
        "# Proses 4 (End Process, Making chat box)"
      ]
    },
    {
      "cell_type": "code",
      "metadata": {
        "colab": {
          "base_uri": "https://localhost:8080/"
        },
        "id": "a3CsRcrAE1Nz",
        "outputId": "69dcb2b3-936e-4e02-97a2-188e8b9fcb8c"
      },
      "source": [
        "#Start Chat\n",
        "print(\"Doc Bot: Mau nanya apa kamu tentang kabel laut\")\n",
        "\n",
        "exit_list=['exit','bye','keluar','quit', 'sampai jumpa']\n",
        "\n",
        "while(True):\n",
        "    user_input=input()\n",
        "    if user_input.lower() in exit_list:\n",
        "        print('Doc Bot: Bye Bye Sampai jumpa lagi')\n",
        "        break\n",
        "    else:\n",
        "        if greeting_response(user_input)!= None:\n",
        "            print('Doc Bot: '+ greeting_response(user_input))\n",
        "        else:\n",
        "            print('Doc Bot: '+ bot_response(user_input))"
      ],
      "execution_count": 25,
      "outputs": [
        {
          "output_type": "stream",
          "name": "stdout",
          "text": [
            "Doc Bot: Mau nanya apa kamu tentang kabel laut\n",
            "kabel laut\n",
            "Doc Bot:  Jaringan Kabel Laut di Indonesia\n",
            "\n",
            "Kabel laut yang ada di negeri kita juga cukup banyak.\n",
            "kabel laut adalah\n",
            "Doc Bot:  Jaringan Kabel Laut di Indonesia\n",
            "\n",
            "Kabel laut yang ada di negeri kita juga cukup banyak.\n",
            "internet\n",
            "Doc Bot:  Ya, Internet itu ada di Bawah Laut\n",
            "\n",
            "Internet sering diasosiasikan dengan kata cloud atau wireless sehingga kita merasa bahwa internet itu dibawa oleh udara di sekitar kita.\n",
            "apa itu internet\n",
            "Doc Bot:  Ya, Internet itu ada di Bawah Laut\n",
            "\n",
            "Internet sering diasosiasikan dengan kata cloud atau wireless sehingga kita merasa bahwa internet itu dibawa oleh udara di sekitar kita.\n",
            "telkomsel\n",
            "Doc Bot:  Telkomsel, Indihome, dan Kabel Laut JaSuKa\n",
            "\n",
            "Pada hari Minggu lalu (19 September 2021), terjadi gangguan jaringan internet pada Telkomsel dan Indihome.\n",
            "Ada apa dengan telkomsel\n",
            "Doc Bot:  Banyaknya vote: 3 Belum ada yang menilai!\n",
            "kampus merdeka\n",
            "Doc Bot:  Maaf, Saya tidak paham dengan yang anda tanyakan\n",
            "bye\n",
            "Doc Bot: Bye Bye Sampai jumpa lagi\n"
          ]
        }
      ]
    },
    {
      "cell_type": "markdown",
      "metadata": {
        "id": "MdMopxw1HjVN"
      },
      "source": [
        "Doc Bot ganti dengan ini atau sesuai dengan topik yang lagi di bahas, print(\"Doc Bot: Mau nanya apa kamu tentang kabel laut?\")"
      ]
    },
    {
      "cell_type": "code",
      "metadata": {
        "id": "H8psLH5Ji4ng"
      },
      "source": [
        "# Coba pertanyaan:\n",
        "# kabel laut adalah\n",
        "# kabel laut untuk komunikasi internasional adalah\n",
        "# dll."
      ],
      "execution_count": 26,
      "outputs": []
    },
    {
      "cell_type": "markdown",
      "metadata": {
        "id": "nysSaLjHt7C5"
      },
      "source": [
        "## Activity (3-5 kelompok dalam 30-60 menit)\n",
        "- Buatlah bot sederhana dengan topik tertentu. Data (knowledge base) boleh berasal dari mana saja, disesuaikan dengna topik yang ingin diambil. \n",
        "- Wajib menggunakan versi Bahasa Inggris dan Bahasa Indonesia.\n",
        "- Gunakan beberapa artikel agar bot memiliki pengetahuan yang lebih luas.\n",
        "- Silahkan di improve kode sekreatif kalian agar chatbot memiliki kemampuan yang cukup baik dalam merespon. Gunakan materi atau teknik preprocessing yang sudah kalian pelajari kemarin.\n",
        "- Buat simulasi pertanyaan dan tampilkan hasilnya (contoh output).\n",
        "- Jawaban tidak ada yang benar atau yang salah, yang terpenting bot mampu memberi respon yang baik sesuai dengan topik yang dibahas."
      ]
    }
  ]
}