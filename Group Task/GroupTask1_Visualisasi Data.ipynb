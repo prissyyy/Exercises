{
  "nbformat": 4,
  "nbformat_minor": 0,
  "metadata": {
    "colab": {
      "name": "GroupTask1_Visualisasi Data.ipynb",
      "provenance": [],
      "include_colab_link": true
    },
    "kernelspec": {
      "name": "python3",
      "display_name": "Python 3"
    },
    "language_info": {
      "name": "python"
    }
  },
  "cells": [
    {
      "cell_type": "markdown",
      "metadata": {
        "id": "view-in-github",
        "colab_type": "text"
      },
      "source": [
        "<a href=\"https://colab.research.google.com/github/prissyyy/Studi-Independen/blob/main/GroupTask1_Visualisasi%20Data.ipynb\" target=\"_parent\"><img src=\"https://colab.research.google.com/assets/colab-badge.svg\" alt=\"Open In Colab\"/></a>"
      ]
    },
    {
      "cell_type": "code",
      "metadata": {
        "id": "cA_6sbthIj61"
      },
      "source": [
        "import pandas as pd\n",
        "import numpy as np\n",
        "import seaborn as sns\n",
        "import random\n",
        "from sklearn.cluster import KMeans\n",
        "from sklearn.metrics import silhouette_score\n",
        "import matplotlib.pyplot as plt\n",
        "\n",
        "\n"
      ],
      "execution_count": null,
      "outputs": []
    },
    {
      "cell_type": "code",
      "metadata": {
        "id": "tL0E77D4RhuL"
      },
      "source": [
        "harga = [700,1400,2100,2800,3500,4200,4900,5600]\n",
        "harga2 = [random.choice(range(700, 6000,100)) for i in range(15)]\n",
        "harga2.sort()\n",
        "ukuran = [50,100,150,200,250,300,400,500]\n",
        "ukuran2 = [random.choice(range(50, 1000, 30)) for i in range(15)]\n",
        "ukuran2.sort()\n",
        "\n",
        "data = {'Harga' : harga,\n",
        "        'Ukuran' : ukuran}\n",
        "data2 = {'Harga' : harga2,\n",
        "        'Ukuran' : ukuran2}"
      ],
      "execution_count": null,
      "outputs": []
    },
    {
      "cell_type": "code",
      "metadata": {
        "id": "5xVKZX2-JBzD"
      },
      "source": [
        "df = pd.DataFrame(data)\n",
        "df2 = pd.DataFrame(data2)"
      ],
      "execution_count": null,
      "outputs": []
    },
    {
      "cell_type": "code",
      "metadata": {
        "colab": {
          "base_uri": "https://localhost:8080/",
          "height": 520
        },
        "id": "hUHPhI4EJoRD",
        "outputId": "41ad6523-810d-4be0-efc9-dc04a2202d07"
      },
      "source": [
        "df2"
      ],
      "execution_count": null,
      "outputs": [
        {
          "output_type": "execute_result",
          "data": {
            "text/html": [
              "<div>\n",
              "<style scoped>\n",
              "    .dataframe tbody tr th:only-of-type {\n",
              "        vertical-align: middle;\n",
              "    }\n",
              "\n",
              "    .dataframe tbody tr th {\n",
              "        vertical-align: top;\n",
              "    }\n",
              "\n",
              "    .dataframe thead th {\n",
              "        text-align: right;\n",
              "    }\n",
              "</style>\n",
              "<table border=\"1\" class=\"dataframe\">\n",
              "  <thead>\n",
              "    <tr style=\"text-align: right;\">\n",
              "      <th></th>\n",
              "      <th>Harga</th>\n",
              "      <th>Ukuran</th>\n",
              "    </tr>\n",
              "  </thead>\n",
              "  <tbody>\n",
              "    <tr>\n",
              "      <th>0</th>\n",
              "      <td>800</td>\n",
              "      <td>50</td>\n",
              "    </tr>\n",
              "    <tr>\n",
              "      <th>1</th>\n",
              "      <td>900</td>\n",
              "      <td>80</td>\n",
              "    </tr>\n",
              "    <tr>\n",
              "      <th>2</th>\n",
              "      <td>1000</td>\n",
              "      <td>80</td>\n",
              "    </tr>\n",
              "    <tr>\n",
              "      <th>3</th>\n",
              "      <td>2100</td>\n",
              "      <td>140</td>\n",
              "    </tr>\n",
              "    <tr>\n",
              "      <th>4</th>\n",
              "      <td>2400</td>\n",
              "      <td>320</td>\n",
              "    </tr>\n",
              "    <tr>\n",
              "      <th>5</th>\n",
              "      <td>4000</td>\n",
              "      <td>410</td>\n",
              "    </tr>\n",
              "    <tr>\n",
              "      <th>6</th>\n",
              "      <td>4000</td>\n",
              "      <td>470</td>\n",
              "    </tr>\n",
              "    <tr>\n",
              "      <th>7</th>\n",
              "      <td>4500</td>\n",
              "      <td>620</td>\n",
              "    </tr>\n",
              "    <tr>\n",
              "      <th>8</th>\n",
              "      <td>4700</td>\n",
              "      <td>680</td>\n",
              "    </tr>\n",
              "    <tr>\n",
              "      <th>9</th>\n",
              "      <td>4800</td>\n",
              "      <td>680</td>\n",
              "    </tr>\n",
              "    <tr>\n",
              "      <th>10</th>\n",
              "      <td>4900</td>\n",
              "      <td>680</td>\n",
              "    </tr>\n",
              "    <tr>\n",
              "      <th>11</th>\n",
              "      <td>5000</td>\n",
              "      <td>710</td>\n",
              "    </tr>\n",
              "    <tr>\n",
              "      <th>12</th>\n",
              "      <td>5200</td>\n",
              "      <td>770</td>\n",
              "    </tr>\n",
              "    <tr>\n",
              "      <th>13</th>\n",
              "      <td>5300</td>\n",
              "      <td>770</td>\n",
              "    </tr>\n",
              "    <tr>\n",
              "      <th>14</th>\n",
              "      <td>5300</td>\n",
              "      <td>980</td>\n",
              "    </tr>\n",
              "  </tbody>\n",
              "</table>\n",
              "</div>"
            ],
            "text/plain": [
              "    Harga  Ukuran\n",
              "0     800      50\n",
              "1     900      80\n",
              "2    1000      80\n",
              "3    2100     140\n",
              "4    2400     320\n",
              "5    4000     410\n",
              "6    4000     470\n",
              "7    4500     620\n",
              "8    4700     680\n",
              "9    4800     680\n",
              "10   4900     680\n",
              "11   5000     710\n",
              "12   5200     770\n",
              "13   5300     770\n",
              "14   5300     980"
            ]
          },
          "metadata": {},
          "execution_count": 65
        }
      ]
    },
    {
      "cell_type": "code",
      "metadata": {
        "colab": {
          "base_uri": "https://localhost:8080/",
          "height": 298
        },
        "id": "3nMBQp5SJ6zG",
        "outputId": "84a28b8b-863f-4a9d-97e7-6408b72ef031"
      },
      "source": [
        "sns.set_style(\"darkgrid\")\n",
        "sns.scatterplot(data=df2, x=\"Harga\", \n",
        "                y=\"Ukuran\")"
      ],
      "execution_count": null,
      "outputs": [
        {
          "output_type": "execute_result",
          "data": {
            "text/plain": [
              "<matplotlib.axes._subplots.AxesSubplot at 0x7f461cb26a50>"
            ]
          },
          "metadata": {},
          "execution_count": 66
        },
        {
          "output_type": "display_data",
          "data": {
            "image/png": "[encoded data removed]",
            "text/plain": [
              "<Figure size 432x288 with 1 Axes>"
            ]
          },
          "metadata": {}
        }
      ]
    },
    {
      "cell_type": "markdown",
      "metadata": {
        "id": "mR_h3uNQvmJr"
      },
      "source": [
        "#**Data plot dan model regresi linier**"
      ]
    },
    {
      "cell_type": "code",
      "metadata": {
        "colab": {
          "base_uri": "https://localhost:8080/",
          "height": 391
        },
        "id": "mp_Zi-fDkpYh",
        "outputId": "c4f39cb8-d086-461f-fba9-0eec985a27e0"
      },
      "source": [
        "sns.set_style(\"whitegrid\")\n",
        "ax = sns.regplot(data=df2, x=\"Harga\", \n",
        "                y=\"Ukuran\")\n",
        "\n",
        "yt = np.array([0, 100, 300, 500, 700, 900])\n",
        "yx = yt*10\n",
        "ax.set_yticks(yt)\n",
        "ax.set_xticks(yx)"
      ],
      "execution_count": null,
      "outputs": [
        {
          "output_type": "execute_result",
          "data": {
            "text/plain": [
              "[<matplotlib.axis.XTick at 0x7f461ca17b50>,\n",
              " <matplotlib.axis.XTick at 0x7f461ca17b10>,\n",
              " <matplotlib.axis.XTick at 0x7f461ca176d0>,\n",
              " <matplotlib.axis.XTick at 0x7f461c9cf590>,\n",
              " <matplotlib.axis.XTick at 0x7f461c9cfb10>,\n",
              " <matplotlib.axis.XTick at 0x7f461c9cf310>]"
            ]
          },
          "metadata": {},
          "execution_count": 67
        },
        {
          "output_type": "display_data",
          "data": {
            "image/png": "[encoded data removed]",
            "text/plain": [
              "<Figure size 432x288 with 1 Axes>"
            ]
          },
          "metadata": {}
        }
      ]
    },
    {
      "cell_type": "markdown",
      "metadata": {
        "id": "rBhhOTwKv0B1"
      },
      "source": [
        "#**Korelasi**"
      ]
    },
    {
      "cell_type": "code",
      "metadata": {
        "colab": {
          "base_uri": "https://localhost:8080/",
          "height": 288
        },
        "id": "2Wz8CI5VmZmd",
        "outputId": "2dd4ed64-e4fe-47bf-d27b-8c76fd09a06b"
      },
      "source": [
        "datacor = df2.corr()\n",
        "sns.heatmap(datacor)"
      ],
      "execution_count": null,
      "outputs": [
        {
          "output_type": "execute_result",
          "data": {
            "text/plain": [
              "<matplotlib.axes._subplots.AxesSubplot at 0x7f461c96bf90>"
            ]
          },
          "metadata": {},
          "execution_count": 68
        },
        {
          "output_type": "display_data",
          "data": {
            "image/png": "[encoded data removed]",
            "text/plain": [
              "<Figure size 432x288 with 2 Axes>"
            ]
          },
          "metadata": {}
        }
      ]
    },
    {
      "cell_type": "code",
      "metadata": {
        "colab": {
          "base_uri": "https://localhost:8080/"
        },
        "id": "dNLmquATN7ET",
        "outputId": "a3bc48ef-d3ee-4daa-c9c3-efeebf9de729"
      },
      "source": [
        "X = np.asarray(df2)\n",
        "print (X)"
      ],
      "execution_count": null,
      "outputs": [
        {
          "output_type": "stream",
          "name": "stdout",
          "text": [
            "[[ 800   50]\n",
            " [ 900   80]\n",
            " [1000   80]\n",
            " [2100  140]\n",
            " [2400  320]\n",
            " [4000  410]\n",
            " [4000  470]\n",
            " [4500  620]\n",
            " [4700  680]\n",
            " [4800  680]\n",
            " [4900  680]\n",
            " [5000  710]\n",
            " [5200  770]\n",
            " [5300  770]\n",
            " [5300  980]]\n"
          ]
        }
      ]
    },
    {
      "cell_type": "code",
      "metadata": {
        "id": "Xep3XGL49H_G"
      },
      "source": [
        "distortions = []\n",
        "K = range(1,9)\n",
        "for k in K:\n",
        "    kmeanModel = KMeans(n_clusters=k)\n",
        "    kmeanModel.fit(df)\n",
        "    distortions.append(kmeanModel.inertia_)"
      ],
      "execution_count": null,
      "outputs": []
    },
    {
      "cell_type": "markdown",
      "metadata": {
        "id": "6I-agWwnDlVm"
      },
      "source": [
        "*distortions adalah variabel yang berisi Sum of squared Error*"
      ]
    },
    {
      "cell_type": "code",
      "metadata": {
        "id": "ej03MgP-9PaM",
        "colab": {
          "base_uri": "https://localhost:8080/",
          "height": 241
        },
        "outputId": "834677f3-f9a2-401f-c77b-69e3cc078035"
      },
      "source": [
        "plt.figure(figsize=(6,3))\n",
        "plt.plot(K, distortions)\n",
        "plt.xlabel('Jumlah Centroid')\n",
        "plt.ylabel('Distorsi')\n",
        "plt.title('Grafik Elbow')\n",
        "plt.show()  "
      ],
      "execution_count": null,
      "outputs": [
        {
          "output_type": "display_data",
          "data": {
            "image/png": "[encoded data removed]",
            "text/plain": [
              "<Figure size 432x216 with 1 Axes>"
            ]
          },
          "metadata": {}
        }
      ]
    },
    {
      "cell_type": "code",
      "metadata": {
        "id": "FlKpkTC9OEcY",
        "colab": {
          "base_uri": "https://localhost:8080/"
        },
        "outputId": "8dbacbdf-be09-496d-9f70-b9402803e0ca"
      },
      "source": [
        "kmeans = KMeans(n_clusters=3)\n",
        "kmeans.fit(X)"
      ],
      "execution_count": null,
      "outputs": [
        {
          "output_type": "execute_result",
          "data": {
            "text/plain": [
              "KMeans(algorithm='auto', copy_x=True, init='k-means++', max_iter=300,\n",
              "       n_clusters=3, n_init=10, n_jobs=None, precompute_distances='auto',\n",
              "       random_state=None, tol=0.0001, verbose=0)"
            ]
          },
          "metadata": {},
          "execution_count": 72
        }
      ]
    },
    {
      "cell_type": "code",
      "metadata": {
        "id": "U4Q3W7M0htga"
      },
      "source": [
        "cluster_cent = kmeans.cluster_centers_"
      ],
      "execution_count": null,
      "outputs": []
    },
    {
      "cell_type": "code",
      "metadata": {
        "id": "fDcHlPiIOHyx",
        "colab": {
          "base_uri": "https://localhost:8080/",
          "height": 314
        },
        "outputId": "9a7be051-d81c-4360-9bb0-a58c7b39fc2f"
      },
      "source": [
        "#plot data\n",
        "plt.scatter(X[:,0],X[:,1], c=kmeans.labels_,  cmap='rainbow', s=65)\n",
        "\n",
        "#plot centroid\n",
        "plt.scatter(cluster_cent[:,0],cluster_cent[:,1], c='black',\n",
        "            marker='x')\n",
        "\n",
        "plt.xlabel(\"Harga\")\n",
        "plt.ylabel(\"Ukuran\")\n",
        "plt.title(\"Grafik Cluster \")\n",
        "plt.legend(['Data', 'Centroid'])\n",
        "plt.show"
      ],
      "execution_count": null,
      "outputs": [
        {
          "output_type": "execute_result",
          "data": {
            "text/plain": [
              "<function matplotlib.pyplot.show>"
            ]
          },
          "metadata": {},
          "execution_count": 74
        },
        {
          "output_type": "display_data",
          "data": {
            "image/png": "[encoded data removed]",
            "text/plain": [
              "<Figure size 432x288 with 1 Axes>"
            ]
          },
          "metadata": {}
        }
      ]
    },
    {
      "cell_type": "markdown",
      "metadata": {
        "id": "djzOsKsgv_aY"
      },
      "source": [
        "#**Nilai Centroid hasil K-Means Cluster**"
      ]
    },
    {
      "cell_type": "code",
      "metadata": {
        "id": "hRyOa_-xioqf",
        "colab": {
          "base_uri": "https://localhost:8080/"
        },
        "outputId": "4a173153-45db-4da4-aafc-93e2566959a0"
      },
      "source": [
        "cluster_cent"
      ],
      "execution_count": null,
      "outputs": [
        {
          "output_type": "execute_result",
          "data": {
            "text/plain": [
              "array([[4770.,  677.],\n",
              "       [ 900.,   70.],\n",
              "       [2250.,  230.]])"
            ]
          },
          "metadata": {},
          "execution_count": 75
        }
      ]
    },
    {
      "cell_type": "code",
      "metadata": {
        "colab": {
          "base_uri": "https://localhost:8080/"
        },
        "id": "X1nB2Z3oniz5",
        "outputId": "39502ac7-cc71-4a95-ac72-ff63925f84b9"
      },
      "source": [
        "Anggota = ['Mellisa', 'Arifa', 'Prissy', 'Taufiq', 'Banyu']\n",
        "yolo = [random.choice(Anggota) for i in range(3)]\n",
        "yolo"
      ],
      "execution_count": null,
      "outputs": [
        {
          "output_type": "execute_result",
          "data": {
            "text/plain": [
              "['Arifa', 'Taufiq', 'Prissy']"
            ]
          },
          "metadata": {},
          "execution_count": 4
        }
      ]
    }
  ]
}
